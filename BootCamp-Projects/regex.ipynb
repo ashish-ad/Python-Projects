{
 "cells": [
  {
   "cell_type": "markdown",
   "metadata": {},
   "source": [
    "# Regular Expression"
   ]
  },
  {
   "cell_type": "code",
   "execution_count": 10,
   "metadata": {},
   "outputs": [
    {
     "name": "stdout",
     "output_type": "stream",
     "text": [
      "Invalid email\n"
     ]
    }
   ],
   "source": [
    "import re\n",
    "\n",
    "# ashishad14@gmail.com\n",
    "\n",
    "pattern = \"[a-z]+[A-Z0-9]+@[a-zA-Z]+\\.(com|in|net)\"\n",
    "\n",
    "user_input = input()\n",
    "\n",
    "if(re.search(pattern, user_input)):\n",
    "    print(\"Valid Email\")\n",
    "else:\n",
    "    print(\"Invalid email\")"
   ]
  },
  {
   "cell_type": "code",
   "execution_count": 6,
   "metadata": {},
   "outputs": [
    {
     "name": "stdout",
     "output_type": "stream",
     "text": [
      "9998881010\n"
     ]
    }
   ],
   "source": [
    "import re \n",
    "#999-888-1010\n",
    "#9998881010\n",
    "pattern = \"(\\d\\d\\d)-(\\d\\d\\d)-(\\d\\d\\d\\d)\"\n",
    "\n",
    "new_pattern = r\"\\1\\2\\3\"\n",
    "\n",
    "user_input = input()\n",
    "\n",
    "new_user_input = re.sub(pattern,new_pattern,user_input)\n",
    "\n",
    "print(new_user_input)\n"
   ]
  },
  {
   "cell_type": "markdown",
   "metadata": {},
   "source": [
    "![regex](Regex.jpeg)"
   ]
  },
  {
   "cell_type": "markdown",
   "metadata": {},
   "source": [
    "![Regex](Regex2.jpeg)"
   ]
  },
  {
   "cell_type": "markdown",
   "metadata": {},
   "source": [
    "![Regex](Regex3.jpeg)"
   ]
  }
 ],
 "metadata": {
  "interpreter": {
   "hash": "7d6993cb2f9ce9a59d5d7380609d9cb5192a9dedd2735a011418ad9e827eb538"
  },
  "kernelspec": {
   "display_name": "Python 3.9.10 64-bit",
   "language": "python",
   "name": "python3"
  },
  "language_info": {
   "codemirror_mode": {
    "name": "ipython",
    "version": 3
   },
   "file_extension": ".py",
   "mimetype": "text/x-python",
   "name": "python",
   "nbconvert_exporter": "python",
   "pygments_lexer": "ipython3",
   "version": "3.9.10"
  },
  "orig_nbformat": 4
 },
 "nbformat": 4,
 "nbformat_minor": 2
}
