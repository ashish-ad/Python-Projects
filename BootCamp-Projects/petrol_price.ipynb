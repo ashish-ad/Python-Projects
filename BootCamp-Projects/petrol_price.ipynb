{
 "cells": [
  {
   "cell_type": "code",
   "execution_count": 20,
   "metadata": {},
   "outputs": [
    {
     "name": "stdout",
     "output_type": "stream",
     "text": [
      "Collecting scikit-learn\n",
      "  Using cached scikit_learn-1.0.2-cp39-cp39-win_amd64.whl (7.2 MB)\n",
      "Requirement already satisfied: threadpoolctl>=2.0.0 in c:\\users\\ashis\\appdata\\local\\programs\\python\\python39\\lib\\site-packages (from scikit-learn) (3.0.0)\n",
      "Requirement already satisfied: joblib>=0.11 in c:\\users\\ashis\\appdata\\local\\programs\\python\\python39\\lib\\site-packages (from scikit-learn) (1.1.0)\n",
      "Requirement already satisfied: scipy>=1.1.0 in c:\\users\\ashis\\appdata\\local\\programs\\python\\python39\\lib\\site-packages (from scikit-learn) (1.7.1)\n",
      "Requirement already satisfied: numpy>=1.14.6 in c:\\users\\ashis\\appdata\\local\\programs\\python\\python39\\lib\\site-packages (from scikit-learn) (1.20.3)\n",
      "Installing collected packages: scikit-learn\n",
      "Successfully installed scikit-learn-1.0.2\n"
     ]
    }
   ],
   "source": [
    "!pip install scikit-learn"
   ]
  },
  {
   "cell_type": "markdown",
   "metadata": {},
   "source": [
    "import matplotlib.pyplot as plt\n",
    "import numpy as np\n",
    "from sklearn import datasets, linear_model\n",
    "from sklearn.metrics import mean_squared_error, r2_score\n",
    "\n",
    "# Load the diabetes dataset\n",
    "diabetes_X, diabetes_y = datasets.load_diabetes(return_X_y=True)\n"
   ]
  },
  {
   "cell_type": "code",
   "execution_count": 26,
   "metadata": {},
   "outputs": [],
   "source": [
    "# Create linear regression object\n",
    "regr = linear_model.LinearRegression()\n"
   ]
  },
  {
   "cell_type": "code",
   "execution_count": 27,
   "metadata": {},
   "outputs": [
    {
     "data": {
      "text/plain": [
       "LinearRegression()"
      ]
     },
     "execution_count": 27,
     "metadata": {},
     "output_type": "execute_result"
    }
   ],
   "source": [
    "\n",
    "# Train the model using the training sets\n",
    "regr.fit(diabetes_X_train, diabetes_y_train)\n"
   ]
  },
  {
   "cell_type": "code",
   "execution_count": 28,
   "metadata": {},
   "outputs": [],
   "source": [
    "\n",
    "# Make predictions using the testing set\n",
    "diabetes_y_pred = regr.predict(diabetes_X_test)\n"
   ]
  },
  {
   "cell_type": "code",
   "execution_count": 29,
   "metadata": {},
   "outputs": [
    {
     "name": "stdout",
     "output_type": "stream",
     "text": [
      "Coefficients: \n",
      " [938.23786125]\n"
     ]
    }
   ],
   "source": [
    "\n",
    "# The coefficients\n",
    "print(\"Coefficients: \\n\", regr.coef_)\n"
   ]
  },
  {
   "cell_type": "code",
   "execution_count": 30,
   "metadata": {},
   "outputs": [
    {
     "name": "stdout",
     "output_type": "stream",
     "text": [
      "Mean squared error: 2548.07\n"
     ]
    }
   ],
   "source": [
    "\n",
    "# The mean squared error\n",
    "print(\"Mean squared error: %.2f\" % mean_squared_error(diabetes_y_test, diabetes_y_pred))\n"
   ]
  },
  {
   "cell_type": "code",
   "execution_count": 31,
   "metadata": {},
   "outputs": [
    {
     "name": "stdout",
     "output_type": "stream",
     "text": [
      "Coefficient of determination: 0.47\n"
     ]
    }
   ],
   "source": [
    "\n",
    "# The coefficient of determination: 1 is perfect prediction\n",
    "print(\"Coefficient of determination: %.2f\" % r2_score(diabetes_y_test, diabetes_y_pred))\n"
   ]
  },
  {
   "cell_type": "code",
   "execution_count": 32,
   "metadata": {},
   "outputs": [
    {
     "data": {
      "image/png": "[encoded data removed]",
      "text/plain": [
       "<Figure size 432x288 with 1 Axes>"
      ]
     },
     "metadata": {},
     "output_type": "display_data"
    }
   ],
   "source": [
    "\n",
    "# Plot outputs\n",
    "plt.scatter(diabetes_X_test, diabetes_y_test, color=\"black\")\n",
    "plt.plot(diabetes_X_test, diabetes_y_pred, color=\"blue\", linewidth=3)\n",
    "\n",
    "plt.xticks(())\n",
    "plt.yticks(())\n",
    "\n",
    "plt.show()"
   ]
  },
  {
   "cell_type": "code",
   "execution_count": 14,
   "metadata": {},
   "outputs": [
    {
     "ename": "ValueError",
     "evalue": "Expected 2D array, got 1D array instead:\narray=[70.32  70.32  70.32  70.32  70.32  70.32  70.32  70.32  70.32  70.32\n 70.32  70.32  70.32  70.32  70.32  70.32  70.32  70.32  70.32  70.32\n 70.32  70.32  70.32  70.32  70.32  70.32  70.32  70.32  70.32  70.32\n 70.32  70.32  70.32  70.32  70.32  70.32  70.32  70.32  70.32  70.32\n 70.32  70.32  70.32  70.32  70.32  70.32  70.32  70.32  70.32  70.32\n 70.32  70.32  70.32  70.32  70.32  70.32  70.32  70.32  70.32  70.32\n 70.32  70.32  70.32  70.32  70.32  70.32  70.32  70.32  70.32  70.32\n 70.32  70.32  70.32  70.32  70.32  70.32  70.32  70.32  70.32  70.32\n 70.32  70.32  70.32  70.32  70.32  70.32  70.32  70.32  70.32  70.32\n 70.32  70.32  70.32  70.32  70.39  70.39  70.39  70.39  70.39  70.39\n 70.39  70.39  70.39  70.39  70.39  70.39  70.39  70.39  70.39  70.39\n 70.39  70.39  70.39  70.39  70.39  70.39  70.39  70.39  70.39  70.39\n 70.39  70.39  70.39  70.39  70.39  70.39  70.39  70.39  70.39  70.39\n 70.39  70.39  70.39  70.39  70.39  70.39  70.39  70.39  70.39  70.39\n 70.39  70.39  70.39  70.39  70.39  70.39  70.39  70.39  70.39  70.39\n 70.39  70.39  70.39  70.39  70.39  70.39  70.39  70.39  70.39  70.39\n 70.39  70.39  70.39  70.39  70.39  70.39  70.39  70.39  70.39  70.39\n 70.39  70.39  70.39  70.39  70.39  70.39  70.39  70.39  70.39  70.39\n 70.39  70.39  70.39  70.39  70.39  70.39  70.39  70.39  70.44  70.44\n 70.44  70.44  70.44  70.44  70.44  70.44  70.44  70.44  70.44  70.44\n 70.44  70.44  70.44  70.44  70.44  70.44  70.44  70.44  70.44  70.44\n 70.44  70.44  70.44  70.44  70.44  70.44  70.44  70.44  70.44  70.44\n 70.44  70.44  70.44  70.44  70.44  70.44  70.44  70.44  70.44  70.44\n 70.44  70.44  70.44  70.44  70.44  70.44  70.44  70.44  70.44  70.44\n 70.44  70.44  70.44  70.44  70.44  70.44  70.44  70.44  70.44  70.44\n 70.44  70.44  70.44  70.44  70.44  70.44  70.44  70.44  70.44  70.44\n 70.44  70.44  70.44  70.44  70.44  70.44  70.44  70.44  70.44  70.44\n 70.44  70.44  70.44  70.44  70.44  70.44  70.44  70.44  70.44  70.44\n 70.44  70.44  70.49  70.49  70.49  70.49  70.49  70.49  70.49  70.49\n 70.49  70.49  70.49  70.49  70.49  70.49  70.49  70.49  70.49  70.49\n 70.49  70.49  70.49  70.49  70.49  70.49  70.49  70.49  70.49  70.49\n 70.49  70.49  70.49  70.49  70.49  70.49  70.49  70.49  70.49  70.49\n 70.49  70.49  70.49  70.49  70.49  70.49  70.49  70.49  70.49  70.49\n 70.49  70.49  70.49  70.49  70.49  70.49  70.49  70.49  70.49  70.49\n 70.49  70.49  70.49  70.49  70.49  70.49  70.49  70.49  70.49  70.49\n 70.49  70.49  70.49  70.49  70.49  70.49  70.49  70.49  70.49  70.49\n 70.49  70.49  70.49  70.49  70.49  70.49  70.49  70.49  70.49  70.49\n 70.49  70.49  70.49  70.49  70.49  70.49  70.43  70.44  70.38  70.31\n 70.16  69.96  69.49  69.09  68.8   68.56  68.48  68.41  68.5   68.55\n 68.63  68.76  68.9   69.03  69.13  69.21  69.16  69.09  69.05  68.94\n 68.74  68.68  68.52  68.4   67.91  67.83  67.67  67.48  67.42  67.54\n 67.61  67.66  67.76  67.85  67.94  68.01  70.36  70.31  70.4   70.48\n 70.61  70.67  70.74  70.8   70.74  70.69  70.64  70.54  70.4   70.27\n 70.21  70.06  69.99  69.9   69.76  69.67  69.63  69.49  69.4   69.32\n 69.26  69.33  69.4   69.48  69.42  69.39  69.31  69.22  69.16  69.21\n 69.27  69.34  69.41  69.47  69.61  69.85  70.13  70.46  70.74  71.\n 71.28  71.49  71.55  71.7   71.77  71.98  71.88  71.71  71.43  71.16\n 71.    70.95  70.83  70.74  70.69  70.64  70.59  70.49  70.41  70.35\n 70.24  70.17  70.12  70.04  69.99  70.08  70.23  70.42  70.57  70.66\n 70.81  70.98  71.12  71.23  71.39  71.53  71.67  71.76  71.86  71.97\n 72.07  72.12  72.173 72.28  72.19  72.28  72.33  72.34  72.29  72.23\n 72.18  72.09  72.04  71.99  71.98  72.03  72.09  72.22  72.38  72.47\n 72.6   72.69  72.79  72.88  73.02  73.17  73.07  73.14  73.28  73.33\n 73.23  73.13  73.03  72.89  72.75  72.61  72.44  72.34  72.18  72.\n 71.78  71.53  71.23  71.11  71.01  70.77  70.69  70.56  70.46  70.41\n 70.36  70.27  70.07  69.84  69.63  69.53  69.37  69.32  69.44  69.39\n 69.32  69.19  68.98  68.93  68.78  68.64  68.52  68.34  68.11  67.81\n 67.68  67.54  67.41  67.3   67.15  67.75  68.35  68.89  69.29  69.89\n 70.49  71.09  71.69  71.86  74.32  74.85  75.36  75.9   76.4   76.74\n 77.05  77.24  77.4   77.61  77.84  77.89  78.07  78.22  78.37  78.47\n 78.66  78.81  78.95  79.07  79.18  79.28  79.38  79.47  79.52  79.43\n 79.31  79.17  79.01  78.86  78.61  78.53  78.7   78.83  78.88  78.94\n 79.    79.11  79.29  79.52  79.73  79.87  80.04  80.23  80.49  80.76\n 81.05  81.05  81.32  81.57  81.57  81.57  81.57  81.57  81.57  81.81\n 82.05  82.05  82.05  82.05  82.29  82.53  82.53  82.53  82.77  83.02\n 83.02  83.02  83.36  83.6   83.6   83.6   83.6   83.6   83.6   83.6\n 83.6   83.92  84.21  84.21  84.21  84.21  84.55  84.84  85.08  85.36\n 85.65  85.93  86.18  86.47  86.72  87.05  87.34  87.72  87.72  87.72\n 88.06  88.06  88.06 ].\nReshape your data either using array.reshape(-1, 1) if your data has a single feature or array.reshape(1, -1) if it contains a single sample.",
     "output_type": "error",
     "traceback": [
      "\u001b[1;31m---------------------------------------------------------------------------\u001b[0m",
      "\u001b[1;31mValueError\u001b[0m                                Traceback (most recent call last)",
      "\u001b[1;32m~\\AppData\\Local\\Temp/ipykernel_7808/2829438102.py\u001b[0m in \u001b[0;36m<module>\u001b[1;34m\u001b[0m\n\u001b[0;32m     19\u001b[0m \u001b[0mregr\u001b[0m \u001b[1;33m=\u001b[0m \u001b[0mlinear_model\u001b[0m\u001b[1;33m.\u001b[0m\u001b[0mLinearRegression\u001b[0m\u001b[1;33m(\u001b[0m\u001b[1;33m)\u001b[0m\u001b[1;33m\u001b[0m\u001b[1;33m\u001b[0m\u001b[0m\n\u001b[0;32m     20\u001b[0m \u001b[1;33m\u001b[0m\u001b[0m\n\u001b[1;32m---> 21\u001b[1;33m \u001b[0mregr\u001b[0m\u001b[1;33m.\u001b[0m\u001b[0mfit\u001b[0m\u001b[1;33m(\u001b[0m\u001b[0mtrain_prices\u001b[0m\u001b[1;33m,\u001b[0m \u001b[0mtrain_dates\u001b[0m\u001b[1;33m)\u001b[0m\u001b[1;33m\u001b[0m\u001b[1;33m\u001b[0m\u001b[0m\n\u001b[0m\u001b[0;32m     22\u001b[0m \u001b[1;33m\u001b[0m\u001b[0m\n\u001b[0;32m     23\u001b[0m \u001b[1;31m# plt.title('Petrol Prices')\u001b[0m\u001b[1;33m\u001b[0m\u001b[1;33m\u001b[0m\u001b[0m\n",
      "\u001b[1;32m~\\AppData\\Local\\Programs\\Python\\Python39\\lib\\site-packages\\sklearn\\linear_model\\_base.py\u001b[0m in \u001b[0;36mfit\u001b[1;34m(self, X, y, sample_weight)\u001b[0m\n\u001b[0;32m    660\u001b[0m         \u001b[0maccept_sparse\u001b[0m \u001b[1;33m=\u001b[0m \u001b[1;32mFalse\u001b[0m \u001b[1;32mif\u001b[0m \u001b[0mself\u001b[0m\u001b[1;33m.\u001b[0m\u001b[0mpositive\u001b[0m \u001b[1;32melse\u001b[0m \u001b[1;33m[\u001b[0m\u001b[1;34m\"csr\"\u001b[0m\u001b[1;33m,\u001b[0m \u001b[1;34m\"csc\"\u001b[0m\u001b[1;33m,\u001b[0m \u001b[1;34m\"coo\"\u001b[0m\u001b[1;33m]\u001b[0m\u001b[1;33m\u001b[0m\u001b[1;33m\u001b[0m\u001b[0m\n\u001b[0;32m    661\u001b[0m \u001b[1;33m\u001b[0m\u001b[0m\n\u001b[1;32m--> 662\u001b[1;33m         X, y = self._validate_data(\n\u001b[0m\u001b[0;32m    663\u001b[0m             \u001b[0mX\u001b[0m\u001b[1;33m,\u001b[0m \u001b[0my\u001b[0m\u001b[1;33m,\u001b[0m \u001b[0maccept_sparse\u001b[0m\u001b[1;33m=\u001b[0m\u001b[0maccept_sparse\u001b[0m\u001b[1;33m,\u001b[0m \u001b[0my_numeric\u001b[0m\u001b[1;33m=\u001b[0m\u001b[1;32mTrue\u001b[0m\u001b[1;33m,\u001b[0m \u001b[0mmulti_output\u001b[0m\u001b[1;33m=\u001b[0m\u001b[1;32mTrue\u001b[0m\u001b[1;33m\u001b[0m\u001b[1;33m\u001b[0m\u001b[0m\n\u001b[0;32m    664\u001b[0m         )\n",
      "\u001b[1;32m~\\AppData\\Local\\Programs\\Python\\Python39\\lib\\site-packages\\sklearn\\base.py\u001b[0m in \u001b[0;36m_validate_data\u001b[1;34m(self, X, y, reset, validate_separately, **check_params)\u001b[0m\n\u001b[0;32m    579\u001b[0m                 \u001b[0my\u001b[0m \u001b[1;33m=\u001b[0m \u001b[0mcheck_array\u001b[0m\u001b[1;33m(\u001b[0m\u001b[0my\u001b[0m\u001b[1;33m,\u001b[0m \u001b[1;33m**\u001b[0m\u001b[0mcheck_y_params\u001b[0m\u001b[1;33m)\u001b[0m\u001b[1;33m\u001b[0m\u001b[1;33m\u001b[0m\u001b[0m\n\u001b[0;32m    580\u001b[0m             \u001b[1;32melse\u001b[0m\u001b[1;33m:\u001b[0m\u001b[1;33m\u001b[0m\u001b[1;33m\u001b[0m\u001b[0m\n\u001b[1;32m--> 581\u001b[1;33m                 \u001b[0mX\u001b[0m\u001b[1;33m,\u001b[0m \u001b[0my\u001b[0m \u001b[1;33m=\u001b[0m \u001b[0mcheck_X_y\u001b[0m\u001b[1;33m(\u001b[0m\u001b[0mX\u001b[0m\u001b[1;33m,\u001b[0m \u001b[0my\u001b[0m\u001b[1;33m,\u001b[0m \u001b[1;33m**\u001b[0m\u001b[0mcheck_params\u001b[0m\u001b[1;33m)\u001b[0m\u001b[1;33m\u001b[0m\u001b[1;33m\u001b[0m\u001b[0m\n\u001b[0m\u001b[0;32m    582\u001b[0m             \u001b[0mout\u001b[0m \u001b[1;33m=\u001b[0m \u001b[0mX\u001b[0m\u001b[1;33m,\u001b[0m \u001b[0my\u001b[0m\u001b[1;33m\u001b[0m\u001b[1;33m\u001b[0m\u001b[0m\n\u001b[0;32m    583\u001b[0m \u001b[1;33m\u001b[0m\u001b[0m\n",
      "\u001b[1;32m~\\AppData\\Local\\Programs\\Python\\Python39\\lib\\site-packages\\sklearn\\utils\\validation.py\u001b[0m in \u001b[0;36mcheck_X_y\u001b[1;34m(X, y, accept_sparse, accept_large_sparse, dtype, order, copy, force_all_finite, ensure_2d, allow_nd, multi_output, ensure_min_samples, ensure_min_features, y_numeric, estimator)\u001b[0m\n\u001b[0;32m    962\u001b[0m         \u001b[1;32mraise\u001b[0m \u001b[0mValueError\u001b[0m\u001b[1;33m(\u001b[0m\u001b[1;34m\"y cannot be None\"\u001b[0m\u001b[1;33m)\u001b[0m\u001b[1;33m\u001b[0m\u001b[1;33m\u001b[0m\u001b[0m\n\u001b[0;32m    963\u001b[0m \u001b[1;33m\u001b[0m\u001b[0m\n\u001b[1;32m--> 964\u001b[1;33m     X = check_array(\n\u001b[0m\u001b[0;32m    965\u001b[0m         \u001b[0mX\u001b[0m\u001b[1;33m,\u001b[0m\u001b[1;33m\u001b[0m\u001b[1;33m\u001b[0m\u001b[0m\n\u001b[0;32m    966\u001b[0m         \u001b[0maccept_sparse\u001b[0m\u001b[1;33m=\u001b[0m\u001b[0maccept_sparse\u001b[0m\u001b[1;33m,\u001b[0m\u001b[1;33m\u001b[0m\u001b[1;33m\u001b[0m\u001b[0m\n",
      "\u001b[1;32m~\\AppData\\Local\\Programs\\Python\\Python39\\lib\\site-packages\\sklearn\\utils\\validation.py\u001b[0m in \u001b[0;36mcheck_array\u001b[1;34m(array, accept_sparse, accept_large_sparse, dtype, order, copy, force_all_finite, ensure_2d, allow_nd, ensure_min_samples, ensure_min_features, estimator)\u001b[0m\n\u001b[0;32m    767\u001b[0m             \u001b[1;31m# If input is 1D raise error\u001b[0m\u001b[1;33m\u001b[0m\u001b[1;33m\u001b[0m\u001b[0m\n\u001b[0;32m    768\u001b[0m             \u001b[1;32mif\u001b[0m \u001b[0marray\u001b[0m\u001b[1;33m.\u001b[0m\u001b[0mndim\u001b[0m \u001b[1;33m==\u001b[0m \u001b[1;36m1\u001b[0m\u001b[1;33m:\u001b[0m\u001b[1;33m\u001b[0m\u001b[1;33m\u001b[0m\u001b[0m\n\u001b[1;32m--> 769\u001b[1;33m                 raise ValueError(\n\u001b[0m\u001b[0;32m    770\u001b[0m                     \u001b[1;34m\"Expected 2D array, got 1D array instead:\\narray={}.\\n\"\u001b[0m\u001b[1;33m\u001b[0m\u001b[1;33m\u001b[0m\u001b[0m\n\u001b[0;32m    771\u001b[0m                     \u001b[1;34m\"Reshape your data either using array.reshape(-1, 1) if \"\u001b[0m\u001b[1;33m\u001b[0m\u001b[1;33m\u001b[0m\u001b[0m\n",
      "\u001b[1;31mValueError\u001b[0m: Expected 2D array, got 1D array instead:\narray=[70.32  70.32  70.32  70.32  70.32  70.32  70.32  70.32  70.32  70.32\n 70.32  70.32  70.32  70.32  70.32  70.32  70.32  70.32  70.32  70.32\n 70.32  70.32  70.32  70.32  70.32  70.32  70.32  70.32  70.32  70.32\n 70.32  70.32  70.32  70.32  70.32  70.32  70.32  70.32  70.32  70.32\n 70.32  70.32  70.32  70.32  70.32  70.32  70.32  70.32  70.32  70.32\n 70.32  70.32  70.32  70.32  70.32  70.32  70.32  70.32  70.32  70.32\n 70.32  70.32  70.32  70.32  70.32  70.32  70.32  70.32  70.32  70.32\n 70.32  70.32  70.32  70.32  70.32  70.32  70.32  70.32  70.32  70.32\n 70.32  70.32  70.32  70.32  70.32  70.32  70.32  70.32  70.32  70.32\n 70.32  70.32  70.32  70.32  70.39  70.39  70.39  70.39  70.39  70.39\n 70.39  70.39  70.39  70.39  70.39  70.39  70.39  70.39  70.39  70.39\n 70.39  70.39  70.39  70.39  70.39  70.39  70.39  70.39  70.39  70.39\n 70.39  70.39  70.39  70.39  70.39  70.39  70.39  70.39  70.39  70.39\n 70.39  70.39  70.39  70.39  70.39  70.39  70.39  70.39  70.39  70.39\n 70.39  70.39  70.39  70.39  70.39  70.39  70.39  70.39  70.39  70.39\n 70.39  70.39  70.39  70.39  70.39  70.39  70.39  70.39  70.39  70.39\n 70.39  70.39  70.39  70.39  70.39  70.39  70.39  70.39  70.39  70.39\n 70.39  70.39  70.39  70.39  70.39  70.39  70.39  70.39  70.39  70.39\n 70.39  70.39  70.39  70.39  70.39  70.39  70.39  70.39  70.44  70.44\n 70.44  70.44  70.44  70.44  70.44  70.44  70.44  70.44  70.44  70.44\n 70.44  70.44  70.44  70.44  70.44  70.44  70.44  70.44  70.44  70.44\n 70.44  70.44  70.44  70.44  70.44  70.44  70.44  70.44  70.44  70.44\n 70.44  70.44  70.44  70.44  70.44  70.44  70.44  70.44  70.44  70.44\n 70.44  70.44  70.44  70.44  70.44  70.44  70.44  70.44  70.44  70.44\n 70.44  70.44  70.44  70.44  70.44  70.44  70.44  70.44  70.44  70.44\n 70.44  70.44  70.44  70.44  70.44  70.44  70.44  70.44  70.44  70.44\n 70.44  70.44  70.44  70.44  70.44  70.44  70.44  70.44  70.44  70.44\n 70.44  70.44  70.44  70.44  70.44  70.44  70.44  70.44  70.44  70.44\n 70.44  70.44  70.49  70.49  70.49  70.49  70.49  70.49  70.49  70.49\n 70.49  70.49  70.49  70.49  70.49  70.49  70.49  70.49  70.49  70.49\n 70.49  70.49  70.49  70.49  70.49  70.49  70.49  70.49  70.49  70.49\n 70.49  70.49  70.49  70.49  70.49  70.49  70.49  70.49  70.49  70.49\n 70.49  70.49  70.49  70.49  70.49  70.49  70.49  70.49  70.49  70.49\n 70.49  70.49  70.49  70.49  70.49  70.49  70.49  70.49  70.49  70.49\n 70.49  70.49  70.49  70.49  70.49  70.49  70.49  70.49  70.49  70.49\n 70.49  70.49  70.49  70.49  70.49  70.49  70.49  70.49  70.49  70.49\n 70.49  70.49  70.49  70.49  70.49  70.49  70.49  70.49  70.49  70.49\n 70.49  70.49  70.49  70.49  70.49  70.49  70.43  70.44  70.38  70.31\n 70.16  69.96  69.49  69.09  68.8   68.56  68.48  68.41  68.5   68.55\n 68.63  68.76  68.9   69.03  69.13  69.21  69.16  69.09  69.05  68.94\n 68.74  68.68  68.52  68.4   67.91  67.83  67.67  67.48  67.42  67.54\n 67.61  67.66  67.76  67.85  67.94  68.01  70.36  70.31  70.4   70.48\n 70.61  70.67  70.74  70.8   70.74  70.69  70.64  70.54  70.4   70.27\n 70.21  70.06  69.99  69.9   69.76  69.67  69.63  69.49  69.4   69.32\n 69.26  69.33  69.4   69.48  69.42  69.39  69.31  69.22  69.16  69.21\n 69.27  69.34  69.41  69.47  69.61  69.85  70.13  70.46  70.74  71.\n 71.28  71.49  71.55  71.7   71.77  71.98  71.88  71.71  71.43  71.16\n 71.    70.95  70.83  70.74  70.69  70.64  70.59  70.49  70.41  70.35\n 70.24  70.17  70.12  70.04  69.99  70.08  70.23  70.42  70.57  70.66\n 70.81  70.98  71.12  71.23  71.39  71.53  71.67  71.76  71.86  71.97\n 72.07  72.12  72.173 72.28  72.19  72.28  72.33  72.34  72.29  72.23\n 72.18  72.09  72.04  71.99  71.98  72.03  72.09  72.22  72.38  72.47\n 72.6   72.69  72.79  72.88  73.02  73.17  73.07  73.14  73.28  73.33\n 73.23  73.13  73.03  72.89  72.75  72.61  72.44  72.34  72.18  72.\n 71.78  71.53  71.23  71.11  71.01  70.77  70.69  70.56  70.46  70.41\n 70.36  70.27  70.07  69.84  69.63  69.53  69.37  69.32  69.44  69.39\n 69.32  69.19  68.98  68.93  68.78  68.64  68.52  68.34  68.11  67.81\n 67.68  67.54  67.41  67.3   67.15  67.75  68.35  68.89  69.29  69.89\n 70.49  71.09  71.69  71.86  74.32  74.85  75.36  75.9   76.4   76.74\n 77.05  77.24  77.4   77.61  77.84  77.89  78.07  78.22  78.37  78.47\n 78.66  78.81  78.95  79.07  79.18  79.28  79.38  79.47  79.52  79.43\n 79.31  79.17  79.01  78.86  78.61  78.53  78.7   78.83  78.88  78.94\n 79.    79.11  79.29  79.52  79.73  79.87  80.04  80.23  80.49  80.76\n 81.05  81.05  81.32  81.57  81.57  81.57  81.57  81.57  81.57  81.81\n 82.05  82.05  82.05  82.05  82.29  82.53  82.53  82.53  82.77  83.02\n 83.02  83.02  83.36  83.6   83.6   83.6   83.6   83.6   83.6   83.6\n 83.6   83.92  84.21  84.21  84.21  84.21  84.55  84.84  85.08  85.36\n 85.65  85.93  86.18  86.47  86.72  87.05  87.34  87.72  87.72  87.72\n 88.06  88.06  88.06 ].\nReshape your data either using array.reshape(-1, 1) if your data has a single feature or array.reshape(1, -1) if it contains a single sample."
     ]
    }
   ],
   "source": [
    "import pandas as pd\n",
    "import matplotlib.pyplot as plt\n",
    "import numpy as np\n",
    "from sklearn import  linear_model\n",
    "from sklearn.metrics import mean_squared_error, r2_score\n",
    "from sklearn.model_selection import TimeSeriesSplit\n",
    "\n",
    "df = pd.read_csv(r'\\Users\\ashis\\OneDrive\\Documents\\GitHub\\Repositories\\Python-Projects\\BootCamp-Projects\\Ahmedabad.csv')\n",
    "\n",
    "tscv = TimeSeriesSplit(n_splits=2)\n",
    "prices = df['rate'].to_numpy()\n",
    "dates = df['date'].to_numpy()\n",
    "\n",
    "for train_index, test_index in tscv.split(dates):\n",
    "    train_prices, test_prices = prices[train_index], prices[test_index]\n",
    "    train_dates, test_dates = dates[train_index], dates[test_index]\n",
    "\n",
    "\n",
    "regr = linear_model.LinearRegression()\n",
    "\n",
    "regr.fit(train_prices, train_dates)\n",
    "\n",
    "# plt.title('Petrol Prices')\n",
    "# plt.xlabel('Dates')\n",
    "# plt.ylabel('Closing Price')\n",
    "\n",
    "# plt.plot_date(dates, prices, linestyle = 'solid')\n",
    "\n",
    "# plt.show()\n",
    "\n"
   ]
  },
  {
   "cell_type": "code",
   "execution_count": 2,
   "metadata": {},
   "outputs": [],
   "source": [
    "import pandas as pd\n",
    "import matplotlib.pyplot as plt\n",
    "import numpy as np\n",
    "from sklearn import  linear_model\n",
    "from sklearn.metrics import mean_squared_error, r2_score"
   ]
  },
  {
   "cell_type": "code",
   "execution_count": 3,
   "metadata": {},
   "outputs": [
    {
     "data": {
      "text/plain": [
       "[<matplotlib.lines.Line2D at 0x7f7c963da1c0>]"
      ]
     },
     "execution_count": 3,
     "metadata": {},
     "output_type": "execute_result"
    },
    {
     "data": {
      "image/png": "[encoded data removed]",
      "text/plain": [
       "<Figure size 432x288 with 1 Axes>"
      ]
     },
     "metadata": {
      "needs_background": "light"
     },
     "output_type": "display_data"
    }
   ],
   "source": [
    "df = pd.read_csv(r'Ahmedabad.csv')\n",
    "\n",
    "prices = df['rate']\n",
    "dates = df['date']\n",
    "\n",
    "plt.title('Petrol Prices')\n",
    "plt.xlabel('Dates')\n",
    "plt.ylabel('Closing Price')\n",
    "\n",
    "plt.plot_date(dates, prices, linestyle = 'solid')\n"
   ]
  },
  {
   "cell_type": "code",
   "execution_count": 33,
   "metadata": {},
   "outputs": [
    {
     "data": {
      "text/plain": [
       "array([44, 47,  0,  3,  3, 39,  9, 19, 21, 36, 23,  6, 24, 24, 12,  1, 38,\n",
       "       39, 23, 46, 24, 17, 37, 25, 13,  8,  9, 20, 16,  5, 15, 47,  0, 18,\n",
       "       35, 24, 49, 29, 19, 19, 14, 39, 32,  1,  9, 32, 31, 10, 23, 35])"
      ]
     },
     "execution_count": 33,
     "metadata": {},
     "output_type": "execute_result"
    }
   ],
   "source": [
    "import numpy as np\n",
    "np.random.seed(0)\n",
    "\n",
    "np.random.randint(0,50,50)"
   ]
  }
 ],
 "metadata": {
  "interpreter": {
   "hash": "7d6993cb2f9ce9a59d5d7380609d9cb5192a9dedd2735a011418ad9e827eb538"
  },
  "kernelspec": {
   "display_name": "Python 3.9.10 64-bit",
   "language": "python",
   "name": "python3"
  },
  "language_info": {
   "codemirror_mode": {
    "name": "ipython",
    "version": 3
   },
   "file_extension": ".py",
   "mimetype": "text/x-python",
   "name": "python",
   "nbconvert_exporter": "python",
   "pygments_lexer": "ipython3",
   "version": "3.9.10"
  },
  "orig_nbformat": 4
 },
 "nbformat": 4,
 "nbformat_minor": 2
}
