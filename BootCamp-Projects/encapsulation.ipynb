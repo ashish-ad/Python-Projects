{
 "cells": [
  {
   "cell_type": "markdown",
   "metadata": {},
   "source": [
    "# Public attributes\n",
    "```python\n",
    "# Visibility refresher\n",
    "\n",
    "public:\n",
    "# Public methods and attributes can be accessed and changed by:\n",
    "# -any class\n",
    "\n",
    "```\n",
    "\n",
    "- Public elements are defined by default. Just write the element name and you've set it as public! `element_name`"
   ]
  },
  {
   "cell_type": "code",
   "execution_count": 7,
   "metadata": {},
   "outputs": [],
   "source": [
    "class Item:\n",
    "    # Class Attribute\n",
    "    pay_rate = 0.8 # the pay rate after 20% discount.\n",
    "    all = []\n",
    "\n",
    "    def __init__(self, name: str, price: float, quantity=0):\n",
    "       \n",
    "        # Run validation to received arguments\n",
    "        assert price >= 0, f\"Price {price} is not greater than or equal to zero! \"\n",
    "        assert quantity >= 0, f\"Qauntity {quantity} is not greater or equal to zero\"\n",
    "        assert type(name) == str, f\"Passed value as {name} should be string not {type(name)}\"\n",
    "\n",
    "        # Assign to self object\n",
    "        self.name = name\n",
    "        self.price =  price\n",
    "        self.quantity = quantity\n",
    "\n",
    "        # Actions to execute\n",
    "        Item.all.append(self)\n",
    "\n",
    "    def calculate_total_price(self):\n",
    "        return self.price * self.quantity\n",
    "\n",
    "    def apply_discount(self):\n",
    "        self.price = self.price * self.pay_rate\n",
    "\n",
    "    def __repr__(self):\n",
    "        # {self.__class__.__name__}\n",
    "        return f\"(Item'{self.name}', {self.price},{self.quantity})\""
   ]
  },
  {
   "cell_type": "code",
   "execution_count": 8,
   "metadata": {},
   "outputs": [
    {
     "data": {
      "text/plain": [
       "'Phone'"
      ]
     },
     "execution_count": 8,
     "metadata": {},
     "output_type": "execute_result"
    }
   ],
   "source": [
    "phone = Item(\"Phone\",500,4)\n",
    "\n",
    "phone.name\n",
    "\n"
   ]
  },
  {
   "cell_type": "markdown",
   "metadata": {},
   "source": [
    "# Protected Attributes\n",
    "```python\n",
    "protected:\n",
    "# Protected methods and attributes can be accessed changed by:\n",
    "# - the same class that declared it\n",
    "# - any child classes (that inherit from the class the protected data is declared in)\n",
    "```\n",
    "- Protected elements are defined by preceding the element name with one underscore `_element_name`\n"
   ]
  },
  {
   "cell_type": "code",
   "execution_count": 9,
   "metadata": {},
   "outputs": [],
   "source": [
    "class Item:\n",
    "    # Class Attribute\n",
    "    pay_rate = 0.8 # the pay rate after 20% discount.\n",
    "    all = []\n",
    "\n",
    "    def __init__(self, name: str, price: float, quantity=0):\n",
    "       \n",
    "        # Run validation to received arguments\n",
    "        assert price >=0, f\"Price {price} is not greater than or equal to zero! \"\n",
    "        assert quantity >= 0, f\"Qauntity {quantity} is not greater or equal to zero\"\n",
    "        assert type(name) == str, f\"Passed value as {name} should be string not {type(name)}\"\n",
    "\n",
    "        # Assign to self object\n",
    "        self._name = name\n",
    "        self._price =  price\n",
    "        self._quantity = quantity\n",
    "\n",
    "        # Actions to execute\n",
    "        Item.all.append(self)\n",
    "\n",
    "    def calculate_total_price(self):\n",
    "        return self._price * self._quantity\n",
    "\n",
    "    def apply_discount(self):\n",
    "        self._price = self._price * self.pay_rate\n",
    "\n",
    "    def __repr__(self):\n",
    "        # {self.__class__.__name__}\n",
    "        return f\"(Item'{self._name}', {self._price},{self._quantity})\""
   ]
  },
  {
   "cell_type": "code",
   "execution_count": 15,
   "metadata": {},
   "outputs": [
    {
     "name": "stdout",
     "output_type": "stream",
     "text": [
      "Phone\n",
      "Laptop\n"
     ]
    }
   ],
   "source": [
    "item01 = Item(\"Phone\",500,4)\n",
    "item01._name\n",
    "print(item01._name)\n",
    "item01._name = \"Laptop\"\n",
    "print(item01._name)"
   ]
  },
  {
   "cell_type": "markdown",
   "metadata": {},
   "source": [
    "# Private Attribute\n",
    "\n",
    "```python\n",
    "private:\n",
    "# Private methods and attributes can be accessed and changed by:\n",
    "# -any class\n",
    "\n",
    "# NOTE: Visbility affects inheritance as well! Private attributes and methods are NOT inherited\n",
    "```\n",
    "\n",
    "\n",
    "- Private elements are defined by preceding the element name with two underscores `__element_name`"
   ]
  },
  {
   "cell_type": "code",
   "execution_count": 50,
   "metadata": {},
   "outputs": [],
   "source": [
    "class Item:\n",
    "    # Class Attribute\n",
    "    pay_rate = 0.8 # the pay rate after 20% discount.\n",
    "    all = []\n",
    "\n",
    "    def __init__(self, name: str, price: float, quantity=0):\n",
    "       \n",
    "        # Run validation to received arguments\n",
    "        assert price >=0, f\"Price {price} is not greater than or equal to zero! \"\n",
    "        assert quantity >= 0, f\"Qauntity {quantity} is not greater or equal to zero\"\n",
    "        assert type(name) == str, f\"Passed value as {name} should be string not {type(name)}\"\n",
    "\n",
    "        # Assign to self object\n",
    "        self.__name = name\n",
    "        self.__price =  price\n",
    "        self.__quantity = quantity\n",
    "\n",
    "        # Actions to execute\n",
    "        Item.all.append(self)\n",
    "    \n",
    "    @property\n",
    "    def get_name(self):\n",
    "        return self.__name\n",
    "\n",
    "\n",
    "    @property\n",
    "    def name(self):\n",
    "        return self.__name\n",
    "\n",
    "    @name.setter\n",
    "    def name(self, a):\n",
    "        self.__name = a\n",
    "    \n",
    "    @name.deleter\n",
    "    def name(self):\n",
    "        del self.__name\n",
    "\n",
    "\n",
    "    def calculate_total_price(self):\n",
    "        return self.__price * self.__quantity\n",
    "\n",
    "    def apply_discount(self):\n",
    "        self.__price = self.__price * self.pay_rate\n",
    "\n",
    "    def __repr__(self):\n",
    "        # {self.__class__.__name__}\n",
    "        return f\"(Item'{self.__name}', {self.__price},{self.__quantity})\""
   ]
  },
  {
   "cell_type": "code",
   "execution_count": 51,
   "metadata": {},
   "outputs": [
    {
     "name": "stdout",
     "output_type": "stream",
     "text": [
      "Cycle\n",
      "Bike\n",
      "Cycle\n"
     ]
    }
   ],
   "source": [
    "item02 = Item(\"Cycle\", 200, 3)\n",
    "\n",
    "print(item02.name)\n",
    "\n",
    "item02.name = \"Bike\"\n",
    "print(item02.name)\n",
    "\n",
    "del item02.name\n",
    "item02.name = \"Cycle\"\n",
    "\n",
    "print(item02.name)"
   ]
  },
  {
   "cell_type": "code",
   "execution_count": null,
   "metadata": {},
   "outputs": [],
   "source": [
    "class phone(Item):\n",
    "     \n",
    "     def __init__(self, name: str, price: float, quantity=0,broken_phone=0 ):\n",
    "          # Run validation to received arguments\n",
    "          assert broken_phone >=0 , f\"Broken Phones {broken_phone} is not greater or equal to zero\"\n",
    "          super().__init__(\n",
    "               name, price, quantity\n",
    "          )\n",
    "          # Assign to self object\n",
    "          self.broken_phone = broken_phone\n",
    "          \n",
    "          # Actions to execute\n",
    "          Item.all.append(self)\n"
   ]
  }
 ],
 "metadata": {
  "interpreter": {
   "hash": "7d6993cb2f9ce9a59d5d7380609d9cb5192a9dedd2735a011418ad9e827eb538"
  },
  "kernelspec": {
   "display_name": "Python 3.9.10 64-bit",
   "language": "python",
   "name": "python3"
  },
  "language_info": {
   "codemirror_mode": {
    "name": "ipython",
    "version": 3
   },
   "file_extension": ".py",
   "mimetype": "text/x-python",
   "name": "python",
   "nbconvert_exporter": "python",
   "pygments_lexer": "ipython3",
   "version": "3.9.10"
  },
  "orig_nbformat": 4
 },
 "nbformat": 4,
 "nbformat_minor": 2
}
