{
 "cells": [
  {
   "cell_type": "markdown",
   "metadata": {},
   "source": [
    "### Class Inheritance"
   ]
  },
  {
   "cell_type": "code",
   "execution_count": 1,
   "metadata": {},
   "outputs": [],
   "source": [
    "class Item:\n",
    "    \"\"\"\n",
    "    This is a class showing the shoping items \n",
    "    takes attributes such as:\n",
    "    +++++++++++++++++++++++++++++++++++++++++++++++++\n",
    "    Name: Name of the Item [Should be a string]\n",
    "    Price: Price of the Item [Should be greater than zero]\n",
    "    Quantity: Qauntity of the item [Should be grater than zero]\n",
    "    +++++++++++++++++++++++++++++++++++++++++++++++++\n",
    "    \"\"\"\n",
    "    # Class Attribute\n",
    "    pay_rate = 0.8 # the pay rate after 20% discount.\n",
    "    all = []\n",
    "    def __init__(self, name: str, price: float, quantity=0):\n",
    "       \n",
    "        # Run validation to received arguments\n",
    "        assert price >=0, f\"Price {price} is not greater than or equal to zero! \"\n",
    "        assert quantity >= 0, f\"Qauntity {quantity} is not greater or equal to zero\"\n",
    "        assert type(name) == str, f\"Passed value as {name} should be string not {type(name)}\"\n",
    "\n",
    "        # Assign to self object\n",
    "        self.name = name\n",
    "        self.price =  price\n",
    "        self.quantity = quantity\n",
    "\n",
    "        # Assign values to list and execute\n",
    "        self.all.append(self)\n",
    "\n",
    "    def calculate_total_price(self):\n",
    "        return self.price * self.quantity\n",
    "\n",
    "    def apply_discount(self):\n",
    "        self.price = self.price * self.pay_rate\n",
    "\n",
    "    def __repr__(self):\n",
    "        return f\"Item('{self.name}',{self.price},{self.quantity})\"\n",
    "    "
   ]
  },
  {
   "cell_type": "code",
   "execution_count": 2,
   "metadata": {},
   "outputs": [],
   "source": [
    "class phone(Item):\n",
    "    pass"
   ]
  },
  {
   "cell_type": "markdown",
   "metadata": {},
   "source": [
    "This way of coding where each attribute was defined individually using . function is very lenghty way of writing code thus to minimize extra code writing we can follow next cell\n"
   ]
  },
  {
   "cell_type": "code",
   "execution_count": 5,
   "metadata": {},
   "outputs": [],
   "source": [
    "Phone = phone(\"Redmi Note 10\", 20_000, 4)\n",
    "Phone.broken_phone = 1\n",
    "\n",
    "Phone1 = phone(\"Samsung S22\", 1_00_000, 10)\n",
    "Phone1.broken_phone = 2\n"
   ]
  },
  {
   "cell_type": "markdown",
   "metadata": {},
   "source": [
    "Here super method is used to inherit attributes initialization from parent class `Item`"
   ]
  },
  {
   "cell_type": "code",
   "execution_count": 6,
   "metadata": {},
   "outputs": [],
   "source": [
    "class phone(Item):\n",
    "     \n",
    "     def __init__(self, name: str, price: float, quantity=0,broken_phone=0 ):\n",
    "      # Run validation to received arguments\n",
    "      assert broken_phone >=0 , f\"Broken Phones {broken_phone} is not greater or equal to zero\"\n",
    "      super().__init__(\n",
    "          name,price,quantity\n",
    "      )\n",
    "      # Assign to self object\n",
    "      self.broken_phone = broken_phone\n",
    "     \n",
    "      # Actions to execute\n",
    "      Item.all.append(self)\n"
   ]
  },
  {
   "cell_type": "markdown",
   "metadata": {},
   "source": [
    "Here objects are instanciated by passing attributes inside the parenthesis"
   ]
  },
  {
   "cell_type": "code",
   "execution_count": 7,
   "metadata": {},
   "outputs": [
    {
     "name": "stdout",
     "output_type": "stream",
     "text": [
      "100000\n"
     ]
    }
   ],
   "source": [
    "Item_phone = phone(\"Redmi Note 10\", 20_000, 5, 4)\n",
    "Item_phone1 = phone(\"Samsung S22\", 1_00_000, 10)\n",
    "\n",
    "print(Item_phone.calculate_total_price())"
   ]
  },
  {
   "cell_type": "code",
   "execution_count": null,
   "metadata": {},
   "outputs": [],
   "source": []
  }
 ],
 "metadata": {
  "interpreter": {
   "hash": "7d6993cb2f9ce9a59d5d7380609d9cb5192a9dedd2735a011418ad9e827eb538"
  },
  "kernelspec": {
   "display_name": "Python 3.9.10 64-bit",
   "language": "python",
   "name": "python3"
  },
  "language_info": {
   "codemirror_mode": {
    "name": "ipython",
    "version": 3
   },
   "file_extension": ".py",
   "mimetype": "text/x-python",
   "name": "python",
   "nbconvert_exporter": "python",
   "pygments_lexer": "ipython3",
   "version": "3.9.10"
  },
  "orig_nbformat": 4
 },
 "nbformat": 4,
 "nbformat_minor": 2
}
