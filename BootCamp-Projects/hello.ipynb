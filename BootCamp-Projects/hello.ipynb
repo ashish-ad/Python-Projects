{
 "cells": [
  {
   "cell_type": "code",
   "execution_count": 2,
   "metadata": {},
   "outputs": [],
   "source": [
    "string01 = \"Characters\""
   ]
  },
  {
   "cell_type": "code",
   "execution_count": 6,
   "metadata": {},
   "outputs": [
    {
     "name": "stdout",
     "output_type": "stream",
     "text": [
      "racte\n"
     ]
    }
   ],
   "source": [
    "print(string01[3:8])"
   ]
  },
  {
   "cell_type": "code",
   "execution_count": 7,
   "metadata": {},
   "outputs": [
    {
     "name": "stdout",
     "output_type": "stream",
     "text": [
      "10\n"
     ]
    }
   ],
   "source": [
    "print(len(string01))"
   ]
  },
  {
   "cell_type": "code",
   "execution_count": 32,
   "metadata": {},
   "outputs": [
    {
     "name": "stdout",
     "output_type": "stream",
     "text": [
      " I'm a \"programmer\" \n"
     ]
    }
   ],
   "source": [
    "string2 = \" I\\'m a \\\"programmer\\\" \"\n",
    "print(string2)"
   ]
  },
  {
   "cell_type": "code",
   "execution_count": 34,
   "metadata": {},
   "outputs": [
    {
     "name": "stdout",
     "output_type": "stream",
     "text": [
      "C:\\Python\\Bootcamp\\\n"
     ]
    }
   ],
   "source": [
    "string3 = \"C:\\\\Python\\\\Bootcamp\\\\\"\n",
    "print(string3)"
   ]
  },
  {
   "cell_type": "code",
   "execution_count": 12,
   "metadata": {},
   "outputs": [
    {
     "name": "stdout",
     "output_type": "stream",
     "text": [
      "This is a HEX\n"
     ]
    }
   ],
   "source": [
    "string4 = \"This is a \\x48\\x45\\x58\"\n",
    "print(string4)"
   ]
  },
  {
   "cell_type": "code",
   "execution_count": 3,
   "metadata": {},
   "outputs": [
    {
     "name": "stdout",
     "output_type": "stream",
     "text": [
      "Programming Language Python\n",
      "Python Programming Language\n"
     ]
    }
   ],
   "source": [
    "string5 = \"{r} {l} {p}\".format(p=\"Python\", r=\"Programming\",l= \"Language\")\n",
    "string6 = \"{} {} {}\".format(\"Python\",\"Programming\",\"Language\")\n",
    "\n",
    "print(string5)\n",
    "print(string6)"
   ]
  },
  {
   "cell_type": "code",
   "execution_count": 23,
   "metadata": {},
   "outputs": [
    {
     "name": "stdout",
     "output_type": "stream",
     "text": [
      "1.656434e+02\n"
     ]
    }
   ],
   "source": [
    "string07 = \"{0:e}\".format(165.6434)\n",
    "print(string07)"
   ]
  },
  {
   "cell_type": "code",
   "execution_count": 15,
   "metadata": {},
   "outputs": [
    {
     "name": "stdout",
     "output_type": "stream",
     "text": [
      "1\n",
      "3\n",
      "4\n",
      "7\n",
      "4\n",
      "5\n",
      "6\n",
      "9\n"
     ]
    }
   ],
   "source": [
    "list01 = [1,3,4,7,4,5,6,9]\n",
    "for i in list01:\n",
    "    print(i)\n",
    "\n",
    "    "
   ]
  },
  {
   "cell_type": "code",
   "execution_count": 28,
   "metadata": {},
   "outputs": [
    {
     "name": "stdout",
     "output_type": "stream",
     "text": [
      "<generator object <genexpr> at 0x7fe2c383d350>\n"
     ]
    }
   ],
   "source": [
    "for i in range(100,50,-5):\n",
    "    print(i)"
   ]
  },
  {
   "cell_type": "code",
   "execution_count": 18,
   "metadata": {},
   "outputs": [
    {
     "name": "stdout",
     "output_type": "stream",
     "text": [
      "this is the index value:  0 this is the value it self : 1\n",
      "this is the index value:  1 this is the value it self : 3\n",
      "this is the index value:  2 this is the value it self : 4\n",
      "this is the index value:  3 this is the value it self : 7\n",
      "this is the index value:  4 this is the value it self : 4\n",
      "this is the index value:  5 this is the value it self : 5\n",
      "this is the index value:  6 this is the value it self : 6\n",
      "this is the index value:  7 this is the value it self : 9\n"
     ]
    }
   ],
   "source": [
    "for i ,j in enumerate(list01):\n",
    "    print(\"this is the index value: \",i, \"this is the value it self :\", j)"
   ]
  },
  {
   "cell_type": "code",
   "execution_count": 10,
   "metadata": {},
   "outputs": [
    {
     "name": "stdout",
     "output_type": "stream",
     "text": [
      "Python\n",
      "Python\n",
      "0\n",
      "1\n",
      "2\n",
      "3\n",
      "4\n",
      "5\n",
      "6\n",
      "7\n",
      "8\n",
      "9\n"
     ]
    }
   ],
   "source": [
    "# condition\n",
    "count = 0\n",
    "\n",
    "while (count<3): \n",
    "    count +=1; print('Python')\n",
    "    if (count==2):\n",
    "        break\n",
    "\n",
    "    elif(condition):\n",
    "        print(condtion)\n",
    "    else:\n",
    "        print('This is else block')\n",
    "\n",
    "for i in range(10): print(i)\n"
   ]
  },
  {
   "cell_type": "code",
   "execution_count": 30,
   "metadata": {},
   "outputs": [
    {
     "name": "stdout",
     "output_type": "stream",
     "text": [
      "[[0, 0], [0, 1], [0, 2], [0, 3], [0, 4], [0, 5], [0, 6], [0, 7], [0, 8], [0, 9], [1, 0], [1, 1], [1, 2], [1, 3], [1, 4], [1, 5], [1, 6], [1, 7], [1, 8], [1, 9], [2, 0], [2, 1], [2, 2], [2, 3], [2, 4], [2, 5], [2, 6], [2, 7], [2, 8], [2, 9], [3, 0], [3, 1], [3, 2], [3, 3], [3, 4], [3, 5], [3, 6], [3, 7], [3, 8], [3, 9], [4, 0], [4, 1], [4, 2], [4, 3], [4, 4], [4, 5], [4, 6], [4, 7], [4, 8], [4, 9], [5, 0], [5, 1], [5, 2], [5, 3], [5, 4], [5, 5], [5, 6], [5, 7], [5, 8], [5, 9], [6, 0], [6, 1], [6, 2], [6, 3], [6, 4], [6, 5], [6, 6], [6, 7], [6, 8], [6, 9], [7, 0], [7, 1], [7, 2], [7, 3], [7, 4], [7, 5], [7, 6], [7, 7], [7, 8], [7, 9], [8, 0], [8, 1], [8, 2], [8, 3], [8, 4], [8, 5], [8, 6], [8, 7], [8, 8], [8, 9], [9, 0], [9, 1], [9, 2], [9, 3], [9, 4], [9, 5], [9, 6], [9, 7], [9, 8], [9, 9]]\n"
     ]
    }
   ],
   "source": [
    "list_05 = []\n",
    "for i in range(0,10):\n",
    "    for j in range(0,10):\n",
    "        list_05.append([i,j])\n",
    "\n",
    "print(list_05)"
   ]
  },
  {
   "cell_type": "code",
   "execution_count": 11,
   "metadata": {},
   "outputs": [
    {
     "ename": "SyntaxError",
     "evalue": "invalid syntax (836969138.py, line 3)",
     "output_type": "error",
     "traceback": [
      "\u001b[0;36m  Input \u001b[0;32mIn [11]\u001b[0;36m\u001b[0m\n\u001b[0;31m    match status:\u001b[0m\n\u001b[0m          ^\u001b[0m\n\u001b[0;31mSyntaxError\u001b[0m\u001b[0;31m:\u001b[0m invalid syntax\n"
     ]
    }
   ],
   "source": [
    "# Cases\n",
    "\n",
    "match status:\n",
    "    case 400:\n",
    "        return \"Bad request\"\n",
    "    case 404:\n",
    "        return \"Not found\"\n",
    "    case 418:\n",
    "        return \"I'm a teapot\"\n",
    "    case _:\n",
    "        return \"Something's wrong with the internet\"\n",
    "\n"
   ]
  },
  {
   "cell_type": "code",
   "execution_count": 20,
   "metadata": {},
   "outputs": [
    {
     "name": "stdout",
     "output_type": "stream",
     "text": [
      "<class 'tuple'>\n"
     ]
    }
   ],
   "source": [
    "def add(a, b):\n",
    "    sum=a+b\n",
    "    sub = a-b\n",
    "    return sum,sub\n",
    "\n",
    "a = add(19,89)\n",
    "print(type(a))"
   ]
  },
  {
   "cell_type": "code",
   "execution_count": 24,
   "metadata": {},
   "outputs": [
    {
     "name": "stdout",
     "output_type": "stream",
     "text": [
      "<class 'list'>\n"
     ]
    }
   ],
   "source": [
    "list_01 = [1,2,3,4,5]\n",
    "print(type(list_01))\n",
    "\n",
    "\n",
    "# def sum():\n",
    "#     statements\n",
    "#     statements\n",
    "#     return values"
   ]
  },
  {
   "cell_type": "code",
   "execution_count": 23,
   "metadata": {},
   "outputs": [
    {
     "name": "stdout",
     "output_type": "stream",
     "text": [
      "<class 'function'>\n"
     ]
    }
   ],
   "source": [
    "first_lambda_function = lambda a , b : (a+b ,a-b)\n",
    "\n",
    "\n",
    "first_lambda_function(19,78)\n",
    "\n",
    "print(type(first_lambda_function))"
   ]
  },
  {
   "cell_type": "code",
   "execution_count": 26,
   "metadata": {},
   "outputs": [
    {
     "name": "stdout",
     "output_type": "stream",
     "text": [
      "[0, 2, 4, 6, 8, 10, 12, 14, 16, 18, 20, 22, 24, 26, 28, 30, 32, 34, 36, 38, 40, 42, 44, 46, 48, 50, 52, 54, 56, 58, 60, 62, 64, 66, 68, 70, 72, 74, 76, 78, 80, 82, 84, 86, 88, 90, 92, 94, 96, 98]\n",
      "[0, 3, 6, 9, 12, 15, 18, 21, 24, 27, 30, 33, 36, 39, 42, 45, 48, 51, 54, 57, 60, 63, 66, 69, 72, 75, 78, 81, 84, 87, 90, 93, 96, 99]\n"
     ]
    }
   ],
   "source": [
    "# list compreshension\n",
    "list_02=list() # list_02 = []\n",
    "for i in range(0,100,2):\n",
    "    list_02.append(i)\n",
    "\n",
    "print(list_02)\n",
    "\n",
    "list_03 = [i for i in range(0,100,3)]\n",
    "\n",
    "print(list_03)\n"
   ]
  },
  {
   "cell_type": "code",
   "execution_count": 1,
   "metadata": {},
   "outputs": [
    {
     "name": "stdout",
     "output_type": "stream",
     "text": [
      "469\n"
     ]
    }
   ],
   "source": [
    "def add(*numbers):\n",
    "    result=sum(numbers)\n",
    "    return result\n",
    "\n",
    "value = add(123,134,56,67,89)\n",
    "print(value)"
   ]
  },
  {
   "cell_type": "code",
   "execution_count": 1,
   "metadata": {},
   "outputs": [
    {
     "name": "stdout",
     "output_type": "stream",
     "text": [
      "<function add at 0x7fae4213e700>\n"
     ]
    }
   ],
   "source": [
    "def add(a,b):\n",
    "    return a+b\n",
    "\n",
    "print(add)"
   ]
  },
  {
   "cell_type": "code",
   "execution_count": 2,
   "metadata": {},
   "outputs": [
    {
     "name": "stdout",
     "output_type": "stream",
     "text": [
      "Help on function add in module __main__:\n",
      "\n",
      "add(a, b)\n",
      "    This is a function for adding numbers\n",
      "\n"
     ]
    }
   ],
   "source": [
    "def add(a,b):\n",
    "    '''This is a function for adding numbers'''\n",
    "    return a+b\n",
    "\n",
    "help(add)"
   ]
  },
  {
   "cell_type": "code",
   "execution_count": 1,
   "metadata": {},
   "outputs": [
    {
     "name": "stdout",
     "output_type": "stream",
     "text": [
      "Help on function sub in module __main__:\n",
      "\n",
      "sub(a, b)\n",
      "    This is a function for subtaracting numbers\n",
      "\n"
     ]
    }
   ],
   "source": [
    "def sub(a,b):\n",
    "    \"\"\"This is a function for subtaracting numbers\"\"\"\n",
    "    return a-b\n",
    "\n",
    "help(sub)"
   ]
  },
  {
   "cell_type": "code",
   "execution_count": 2,
   "metadata": {},
   "outputs": [
    {
     "name": "stdout",
     "output_type": "stream",
     "text": [
      "Help on built-in function print in module builtins:\n",
      "\n",
      "print(...)\n",
      "    print(value, ..., sep=' ', end='\\n', file=sys.stdout, flush=False)\n",
      "    \n",
      "    Prints the values to a stream, or to sys.stdout by default.\n",
      "    Optional keyword arguments:\n",
      "    file:  a file-like object (stream); defaults to the current sys.stdout.\n",
      "    sep:   string inserted between values, default a space.\n",
      "    end:   string appended after the last value, default a newline.\n",
      "    flush: whether to forcibly flush the stream.\n",
      "\n"
     ]
    }
   ],
   "source": [
    "help(print)\n",
    "\n"
   ]
  },
  {
   "cell_type": "code",
   "execution_count": 3,
   "metadata": {},
   "outputs": [
    {
     "name": "stdout",
     "output_type": "stream",
     "text": [
      "Help on method raw_input in module ipykernel.kernelbase:\n",
      "\n",
      "raw_input(prompt='') method of ipykernel.ipkernel.IPythonKernel instance\n",
      "    Forward raw_input to frontends\n",
      "    \n",
      "    Raises\n",
      "    ------\n",
      "    StdinNotImplementedError if active frontend doesn't support stdin.\n",
      "\n"
     ]
    }
   ],
   "source": [
    "help(input)"
   ]
  },
  {
   "cell_type": "code",
   "execution_count": 4,
   "metadata": {},
   "outputs": [
    {
     "name": "stdout",
     "output_type": "stream",
     "text": [
      "Help on built-in function min in module builtins:\n",
      "\n",
      "min(...)\n",
      "    min(iterable, *[, default=obj, key=func]) -> value\n",
      "    min(arg1, arg2, *args, *[, key=func]) -> value\n",
      "    \n",
      "    With a single iterable argument, return its smallest item. The\n",
      "    default keyword-only argument specifies an object to return if\n",
      "    the provided iterable is empty.\n",
      "    With two or more arguments, return the smallest argument.\n",
      "\n"
     ]
    }
   ],
   "source": [
    "help(min)"
   ]
  },
  {
   "cell_type": "code",
   "execution_count": 12,
   "metadata": {},
   "outputs": [],
   "source": [
    "class Item:\n",
    "    # Class Attribute\n",
    "    pay_rate = 0.8 # the pay rate after 20% discount.\n",
    "    all = []\n",
    "    def __init__(self, name: str, price: float, quantity=0):\n",
    "       \n",
    "        # Run validation to received arguments\n",
    "        assert price >=0, f\"Price {price} is not greater than or equal to zero! \"\n",
    "        assert quantity >= 0, f\"Qauntity {quantity} is not greater or equal to zero\"\n",
    "        assert type(name) == str, f\"Passed value as {name} should be string not {type(name)}\"\n",
    "\n",
    "        # Assign to self object\n",
    "        self.name = name\n",
    "        self.price =  price\n",
    "        self.quantity = quantity\n",
    "\n",
    "        # Assign values to list and execute\n",
    "        self.all.append(self)\n",
    "\n",
    "    def calculate_total_price(self):\n",
    "        return self.price * self.quantity\n",
    "\n",
    "    def apply_discount(self):\n",
    "        self.price = self.price * self.pay_rate\n",
    "\n",
    "    \n",
    "    \n",
    "    def __repr__(self):\n",
    "        return f\"Item('{self.name}',{self.price},{self.quantity})\"\n",
    "    "
   ]
  },
  {
   "cell_type": "code",
   "execution_count": 2,
   "metadata": {},
   "outputs": [],
   "source": [
    "item1 =  Item(\"Phone\", 100,1)\n",
    "item2 = Item(\"Laptop\",1000,3)\n",
    "itme3 = Item(\"Cable\", 10, 5)\n",
    "item4 = Item(\"Mouse\", 50, 5)\n",
    "item5 = Item(\"Keyboard\", 75, 5)\n"
   ]
  },
  {
   "cell_type": "code",
   "execution_count": 4,
   "metadata": {},
   "outputs": [
    {
     "name": "stdout",
     "output_type": "stream",
     "text": [
      "Item('Phone',100,1)\n",
      "Item('Laptop',1000,3)\n",
      "Item('Cable',10,5)\n",
      "Item('Mouse',50,5)\n",
      "Item('Keyboard',75,5)\n"
     ]
    }
   ],
   "source": [
    "\n",
    "for instances in Item.all:\n",
    "    print(instances)"
   ]
  },
  {
   "cell_type": "code",
   "execution_count": 15,
   "metadata": {},
   "outputs": [
    {
     "name": "stdout",
     "output_type": "stream",
     "text": [
      "0.8\n",
      "0.8\n",
      "0.8\n"
     ]
    }
   ],
   "source": [
    "# Printing all the attributes of class first and then the instance level\n",
    "print(Item.pay_rate)\n",
    "print(item1.pay_rate)\n",
    "print(item2.pay_rate)"
   ]
  },
  {
   "cell_type": "code",
   "execution_count": 16,
   "metadata": {},
   "outputs": [
    {
     "name": "stdout",
     "output_type": "stream",
     "text": [
      "{'__module__': '__main__', 'pay_rate': 0.8, '__init__': <function Item.__init__ at 0x7fdd8463f3a0>, 'calculate_total_price': <function Item.calculate_total_price at 0x7fdd846110d0>, 'apply_discount': <function Item.apply_discount at 0x7fdd84611280>, '__dict__': <attribute '__dict__' of 'Item' objects>, '__weakref__': <attribute '__weakref__' of 'Item' objects>, '__doc__': None}\n",
      "{'name': 'phone', 'price': 100, 'quantity': 1}\n"
     ]
    }
   ],
   "source": [
    "# Showing all the attributes in form of key value pair\n",
    "print(Item.__dict__)\n",
    "print(item1.__dict__)"
   ]
  },
  {
   "cell_type": "code",
   "execution_count": 17,
   "metadata": {},
   "outputs": [
    {
     "name": "stdout",
     "output_type": "stream",
     "text": [
      "80.0\n"
     ]
    }
   ],
   "source": [
    "item1.apply_discount()\n",
    "print(item1.price)"
   ]
  },
  {
   "cell_type": "code",
   "execution_count": 18,
   "metadata": {},
   "outputs": [
    {
     "name": "stdout",
     "output_type": "stream",
     "text": [
      "800.0\n"
     ]
    }
   ],
   "source": [
    "item2.pay_rate = 0.7\n",
    "\n",
    "item2.apply_discount()\n",
    "\n",
    "print(item2.price)"
   ]
  },
  {
   "cell_type": "code",
   "execution_count": 1,
   "metadata": {},
   "outputs": [],
   "source": [
    "# Now as in above class we have passed the value \n",
    "class Item:\n",
    "    # Class Attribute\n",
    "    pay_rate = 0.8 # the pay rate after 20% discount.\n",
    "    all = []\n",
    "\n",
    "    def __init__(self, name: str, price: float, quantity=0):\n",
    "       \n",
    "        # Run validation to received arguments\n",
    "        assert price >=0, f\"Price {price} is not greater than or equal to zero! \"\n",
    "        assert quantity >= 0, f\"Qauntity {quantity} is not greater or equal to zero\"\n",
    "        assert type(name) == str, f\"Passed value as {name} should be string not {type(name)}\"\n",
    "\n",
    "        # Assign to self object\n",
    "        self.name = name\n",
    "        self.price =  price\n",
    "        self.quantity = quantity\n",
    "\n",
    "        # Actions to execute\n",
    "        Item.all.append(self)\n",
    "\n",
    "    def calculate_total_price(self):\n",
    "        return self.price * self.quantity\n",
    "\n",
    "    def apply_discount(self):\n",
    "        self.price = self.price * self.pay_rate\n",
    "\n",
    "    def __repr__(self):\n",
    "        # {self.__class__.__name__}\n",
    "        return f\"(Item'{self.name}', {self.price},{self.quantity})\"\n",
    "\n"
   ]
  },
  {
   "cell_type": "code",
   "execution_count": 17,
   "metadata": {},
   "outputs": [],
   "source": [
    "item1 =  Item(\"Phone\", 100,1)\n",
    "item2 = Item(\"Laptop\",1000,3)\n",
    "itme3 = Item(\"Cable\", 10, 5)\n",
    "item4 = Item(\"Mouse\", 50, 5)\n",
    "item5 = Item(\"Keyboard\", 75, 5)"
   ]
  },
  {
   "cell_type": "code",
   "execution_count": 19,
   "metadata": {},
   "outputs": [
    {
     "name": "stdout",
     "output_type": "stream",
     "text": [
      "(Item'Phone', 100,1)\n",
      "(Item'Laptop', 1000,3)\n",
      "(Item'Cable', 10,5)\n",
      "(Item'Mouse', 50,5)\n",
      "(Item'Keyboard', 75,5)\n"
     ]
    }
   ],
   "source": [
    "for i in Item.all:\n",
    "    print(i)"
   ]
  },
  {
   "cell_type": "code",
   "execution_count": 2,
   "metadata": {},
   "outputs": [],
   "source": [
    "class phone(Item):\n",
    "     \n",
    "     def __init__(self, name: str, price: float, quantity=0,broken_phone=0 ):\n",
    "      # Run validation to received arguments\n",
    "      assert broken_phone >=0 , f\"Broken Phones {broken_phone} is not greater or equal to zero\"\n",
    "\n",
    "      # Assign to self object\n",
    "      self.broken_phone = broken_phone\n",
    "     \n",
    "      # Actions to execute\n",
    "      Item.all.append(self)\n"
   ]
  },
  {
   "cell_type": "code",
   "execution_count": 4,
   "metadata": {},
   "outputs": [
    {
     "ename": "AttributeError",
     "evalue": "'phone' object has no attribute 'price'",
     "output_type": "error",
     "traceback": [
      "\u001b[0;31m---------------------------------------------------------------------------\u001b[0m",
      "\u001b[0;31mAttributeError\u001b[0m                            Traceback (most recent call last)",
      "\u001b[1;32m/mnt/c/Users/ashis/OneDrive/Documents/GitHub/Repositories/Python-Projects/BootCamp-Projects/hello.ipynb Cell 37'\u001b[0m in \u001b[0;36m<module>\u001b[0;34m\u001b[0m\n\u001b[1;32m      <a href='vscode-notebook-cell://wsl%2Bubuntu-20.04/mnt/c/Users/ashis/OneDrive/Documents/GitHub/Repositories/Python-Projects/BootCamp-Projects/hello.ipynb#ch0000053vscode-remote?line=0'>1</a>\u001b[0m Item_phone \u001b[39m=\u001b[39m phone(\u001b[39m\"\u001b[39m\u001b[39mRedmi Note 10\u001b[39m\u001b[39m\"\u001b[39m, \u001b[39m20_000\u001b[39m, \u001b[39m5\u001b[39m, \u001b[39m4\u001b[39m)\n\u001b[1;32m      <a href='vscode-notebook-cell://wsl%2Bubuntu-20.04/mnt/c/Users/ashis/OneDrive/Documents/GitHub/Repositories/Python-Projects/BootCamp-Projects/hello.ipynb#ch0000053vscode-remote?line=1'>2</a>\u001b[0m Item_phone1 \u001b[39m=\u001b[39m phone(\u001b[39m\"\u001b[39m\u001b[39mSamsung S22\u001b[39m\u001b[39m\"\u001b[39m, \u001b[39m1_00_000\u001b[39m, \u001b[39m10\u001b[39m)\n\u001b[0;32m----> <a href='vscode-notebook-cell://wsl%2Bubuntu-20.04/mnt/c/Users/ashis/OneDrive/Documents/GitHub/Repositories/Python-Projects/BootCamp-Projects/hello.ipynb#ch0000053vscode-remote?line=3'>4</a>\u001b[0m \u001b[39mprint\u001b[39m(Item_phone\u001b[39m.\u001b[39;49mcalculate_total_price())\n",
      "\u001b[1;32m/mnt/c/Users/ashis/OneDrive/Documents/GitHub/Repositories/Python-Projects/BootCamp-Projects/hello.ipynb Cell 33'\u001b[0m in \u001b[0;36mItem.calculate_total_price\u001b[0;34m(self)\u001b[0m\n\u001b[1;32m     <a href='vscode-notebook-cell://wsl%2Bubuntu-20.04/mnt/c/Users/ashis/OneDrive/Documents/GitHub/Repositories/Python-Projects/BootCamp-Projects/hello.ipynb#ch0000032vscode-remote?line=21'>22</a>\u001b[0m \u001b[39mdef\u001b[39;00m \u001b[39mcalculate_total_price\u001b[39m(\u001b[39mself\u001b[39m):\n\u001b[0;32m---> <a href='vscode-notebook-cell://wsl%2Bubuntu-20.04/mnt/c/Users/ashis/OneDrive/Documents/GitHub/Repositories/Python-Projects/BootCamp-Projects/hello.ipynb#ch0000032vscode-remote?line=22'>23</a>\u001b[0m     \u001b[39mreturn\u001b[39;00m \u001b[39mself\u001b[39;49m\u001b[39m.\u001b[39;49mprice \u001b[39m*\u001b[39m \u001b[39mself\u001b[39m\u001b[39m.\u001b[39mquantity\n",
      "\u001b[0;31mAttributeError\u001b[0m: 'phone' object has no attribute 'price'"
     ]
    }
   ],
   "source": [
    "Item_phone = phone(\"Redmi Note 10\", 20_000, 5, 4)\n",
    "Item_phone1 = phone(\"Samsung S22\", 1_00_000, 10)\n",
    "\n",
    "print(Item_phone.calculate_total_price())"
   ]
  },
  {
   "cell_type": "markdown",
   "metadata": {},
   "source": [
    "# Documentation in python notebook\n",
    "## Documentation in python notebook"
   ]
  },
  {
   "cell_type": "code",
   "execution_count": 21,
   "metadata": {},
   "outputs": [],
   "source": [
    "class phone(Item):\n",
    "     \n",
    "     def __init__(self, name: str, price: float, quantity=0,broken_phone=0 ):\n",
    "        # Call to super funciton to have access to all attreibutes /methods\n",
    "        super().__init__(\n",
    "           name, price, quantity\n",
    "        )\n",
    "\n",
    "\n",
    "        # Run validation to received arguments\n",
    "        assert broken_phone >= 0, f\"Broken Phones {broken_phone} is not greater or equal to zero\"\n",
    "\n",
    "        # Assign to self object\n",
    "        self.broken_phones = broken_phone\n",
    "\n",
    "        # Actions to execute\n",
    "        phone.all.append(self)"
   ]
  },
  {
   "cell_type": "code",
   "execution_count": 11,
   "metadata": {},
   "outputs": [
    {
     "name": "stdout",
     "output_type": "stream",
     "text": [
      "1000000\n",
      "4\n"
     ]
    }
   ],
   "source": [
    "Item_phone = phone(\"Redmi Note 10\", 20_000, 5, 4)\n",
    "Item_phone1 = phone(\"Samsung S22\", 1_00_000, 10)\n",
    "\n",
    "print(Item_phone1.calculate_total_price())\n",
    "\n",
    "print(Item_phone.broken_phones)"
   ]
  },
  {
   "cell_type": "code",
   "execution_count": null,
   "metadata": {},
   "outputs": [],
   "source": []
  },
  {
   "cell_type": "code",
   "execution_count": 7,
   "metadata": {},
   "outputs": [
    {
     "data": {
      "text/plain": [
       "100000"
      ]
     },
     "execution_count": 7,
     "metadata": {},
     "output_type": "execute_result"
    }
   ],
   "source": []
  },
  {
   "cell_type": "code",
   "execution_count": 5,
   "metadata": {},
   "outputs": [],
   "source": [
    "item1 =  Item(\"Phone\", 100,1)\n",
    "item2 = Item(\"Laptop\",1000,3)\n",
    "itme3 = Item(\"Cable\", 10, 5)\n",
    "item4 = Item(\"Mouse\", 50, 5)\n",
    "item5 = Item(\"Keyboard\", 75, 5)\n"
   ]
  },
  {
   "cell_type": "code",
   "execution_count": 6,
   "metadata": {},
   "outputs": [
    {
     "name": "stdout",
     "output_type": "stream",
     "text": [
      "[<__main__.Item object at 0x7f09840e66a0>, <__main__.Item object at 0x7f09840e6af0>, <__main__.Item object at 0x7f09840e6fa0>, <__main__.Item object at 0x7f09840e6280>, <__main__.Item object at 0x7f09840e6370>]\n"
     ]
    }
   ],
   "source": [
    "print(Item.all)"
   ]
  },
  {
   "cell_type": "code",
   "execution_count": null,
   "metadata": {},
   "outputs": [],
   "source": [
    "#child class \n",
    "class Phone(Item):\n",
    "    def __init__(self, name: str, price: float, quantity=0,broken_phones = 0):\n",
    "         all = []\n",
    "        # Run validation to received arguments\n",
    "        assert price >=0, f\"Price {price} is not greater than or equal to zero! \"\n",
    "        assert quantity >= 0, f\"Qauntity {quantity} is not greater or equal to zero\"\n",
    "        assert type(name) == str, f\"Passed value as {name} should be string not {type(name)}\"\n",
    "        assert type(broken_phones) >=0, f\"Broken Phones {broken_phones} is not greater or equal to zero\"\n",
    "\n",
    "        # Assign to self object\n",
    "        self.name = name\n",
    "        self.price =  price\n",
    "        self.quantity = quantity\n",
    "\n",
    "        # Actions to execute\n",
    "        Phone.all.append(self)"
   ]
  },
  {
   "cell_type": "code",
   "execution_count": null,
   "metadata": {},
   "outputs": [],
   "source": [
    "phone1 = Phone(\"Redmi Note 9\", 500, 5, 1)\n",
    "\n",
    "phone2 = Phone(\"OnePlus\",700,5,1)"
   ]
  },
  {
   "cell_type": "code",
   "execution_count": 4,
   "metadata": {},
   "outputs": [
    {
     "name": "stdout",
     "output_type": "stream",
     "text": [
      "80.0\n"
     ]
    }
   ],
   "source": [
    "item1.apply_discount()\n",
    "print(item1.price)"
   ]
  },
  {
   "cell_type": "code",
   "execution_count": 5,
   "metadata": {},
   "outputs": [
    {
     "name": "stdout",
     "output_type": "stream",
     "text": [
      "700.0\n"
     ]
    }
   ],
   "source": [
    "item2.pay_rate = 0.7\n",
    "\n",
    "item2.apply_discount()\n",
    "\n",
    "print(item2.price)"
   ]
  },
  {
   "cell_type": "code",
   "execution_count": 10,
   "metadata": {},
   "outputs": [],
   "source": [
    "def add(number1,number2):\n",
    "    assert type(number1)==int, f\"Value {number1} given is not an integer\"\n",
    "    assert type(number2)==int, f\"Value {number2} given is not an integer\"\n",
    "    return number1+number2\n"
   ]
  },
  {
   "cell_type": "code",
   "execution_count": 11,
   "metadata": {},
   "outputs": [
    {
     "ename": "AssertionError",
     "evalue": "Value 23.9 given is not an integer",
     "output_type": "error",
     "traceback": [
      "\u001b[0;31m---------------------------------------------------------------------------\u001b[0m",
      "\u001b[0;31mAssertionError\u001b[0m                            Traceback (most recent call last)",
      "\u001b[1;32m/mnt/c/Users/ashis/OneDrive/Documents/GitHub/Repositories/Python-Projects/BootCamp-Projects/hello.ipynb Cell 36'\u001b[0m in \u001b[0;36m<module>\u001b[0;34m\u001b[0m\n\u001b[0;32m----> <a href='vscode-notebook-cell://wsl%2Bubuntu-20.04/mnt/c/Users/ashis/OneDrive/Documents/GitHub/Repositories/Python-Projects/BootCamp-Projects/hello.ipynb#ch0000041vscode-remote?line=0'>1</a>\u001b[0m add(\u001b[39m23.9\u001b[39;49m,\u001b[39m78.0\u001b[39;49m)\n",
      "\u001b[1;32m/mnt/c/Users/ashis/OneDrive/Documents/GitHub/Repositories/Python-Projects/BootCamp-Projects/hello.ipynb Cell 35'\u001b[0m in \u001b[0;36madd\u001b[0;34m(number1, number2)\u001b[0m\n\u001b[1;32m      <a href='vscode-notebook-cell://wsl%2Bubuntu-20.04/mnt/c/Users/ashis/OneDrive/Documents/GitHub/Repositories/Python-Projects/BootCamp-Projects/hello.ipynb#ch0000040vscode-remote?line=0'>1</a>\u001b[0m \u001b[39mdef\u001b[39;00m \u001b[39madd\u001b[39m(number1,number2):\n\u001b[0;32m----> <a href='vscode-notebook-cell://wsl%2Bubuntu-20.04/mnt/c/Users/ashis/OneDrive/Documents/GitHub/Repositories/Python-Projects/BootCamp-Projects/hello.ipynb#ch0000040vscode-remote?line=1'>2</a>\u001b[0m     \u001b[39massert\u001b[39;00m \u001b[39mtype\u001b[39m(number1)\u001b[39m==\u001b[39m\u001b[39mint\u001b[39m, \u001b[39mf\u001b[39m\u001b[39m\"\u001b[39m\u001b[39mValue \u001b[39m\u001b[39m{\u001b[39;00mnumber1\u001b[39m}\u001b[39;00m\u001b[39m given is not an integer\u001b[39m\u001b[39m\"\u001b[39m\n\u001b[1;32m      <a href='vscode-notebook-cell://wsl%2Bubuntu-20.04/mnt/c/Users/ashis/OneDrive/Documents/GitHub/Repositories/Python-Projects/BootCamp-Projects/hello.ipynb#ch0000040vscode-remote?line=2'>3</a>\u001b[0m     \u001b[39massert\u001b[39;00m \u001b[39mtype\u001b[39m(number2)\u001b[39m==\u001b[39m\u001b[39mint\u001b[39m, \u001b[39mf\u001b[39m\u001b[39m\"\u001b[39m\u001b[39mValue \u001b[39m\u001b[39m{\u001b[39;00mnumber2\u001b[39m}\u001b[39;00m\u001b[39m given is not an integer\u001b[39m\u001b[39m\"\u001b[39m\n\u001b[1;32m      <a href='vscode-notebook-cell://wsl%2Bubuntu-20.04/mnt/c/Users/ashis/OneDrive/Documents/GitHub/Repositories/Python-Projects/BootCamp-Projects/hello.ipynb#ch0000040vscode-remote?line=3'>4</a>\u001b[0m     \u001b[39mreturn\u001b[39;00m number1\u001b[39m+\u001b[39mnumber2\n",
      "\u001b[0;31mAssertionError\u001b[0m: Value 23.9 given is not an integer"
     ]
    }
   ],
   "source": [
    "add(23.9,78.0)"
   ]
  },
  {
   "cell_type": "code",
   "execution_count": 1,
   "metadata": {},
   "outputs": [],
   "source": [
    "# oops_python\n",
    "\n",
    "class Item:\n",
    "   \n",
    "    #Class attributes\n",
    "    pay_rate = 0.8 # discount on items 20% \n",
    "    def __init__(self,quantity,price,name):\n",
    "        assert type(name)==str, f\"The attribute {name} passed is not a string\";\n",
    "        assert quantity >= 0, f\"The attribute {quantity} passed is less than 0 \" \n",
    "        assert price >= 0, f\"The attribute {price} passed is less than 0\"\n",
    "\n",
    "        # Instance attributes\n",
    "        self.quantity = quantity\n",
    "        self.price = price\n",
    "        self.name = name\n",
    "   \n",
    "    def calculate_price(self):\n",
    "        # return self.quantity*self.price\n",
    "        return self\n",
    "\n",
    "    def apply_discount(self):\n",
    "        self.price = self.price*self.pay_rate\n",
    "        "
   ]
  },
  {
   "cell_type": "code",
   "execution_count": 2,
   "metadata": {},
   "outputs": [
    {
     "name": "stdout",
     "output_type": "stream",
     "text": [
      "0.8\n",
      "0.8\n",
      "0.8\n"
     ]
    }
   ],
   "source": [
    "Item01 = Item(9, 1000, \"Laptop\")\n",
    "Item02 = Item(5, 500,\"Mobile phones\")\n",
    "\n",
    "\n",
    "\n",
    "# print(Item01.quantity, Item01.name)\n",
    "print(Item.pay_rate)\n",
    "print(Item01.pay_rate)\n",
    "print(Item02.pay_rate)\n",
    "\n",
    "\n"
   ]
  },
  {
   "cell_type": "code",
   "execution_count": 3,
   "metadata": {},
   "outputs": [
    {
     "name": "stdout",
     "output_type": "stream",
     "text": [
      "1000\n",
      "800.0\n",
      "560.0\n"
     ]
    }
   ],
   "source": [
    "print(Item01.price)\n",
    "Item01.apply_discount()\n",
    "print(Item01.price)\n",
    "\n",
    "Item01.pay_rate = 0.7\n",
    "Item01.apply_discount()\n",
    "\n",
    "print(Item01.price)"
   ]
  },
  {
   "cell_type": "code",
   "execution_count": 2,
   "metadata": {},
   "outputs": [
    {
     "name": "stdout",
     "output_type": "stream",
     "text": [
      "__main__\n"
     ]
    }
   ],
   "source": [
    "print(__name__)"
   ]
  },
  {
   "cell_type": "code",
   "execution_count": null,
   "metadata": {},
   "outputs": [],
   "source": [
    "def random():\n",
    "    return random()"
   ]
  }
 ],
 "metadata": {
  "interpreter": {
   "hash": "7d6993cb2f9ce9a59d5d7380609d9cb5192a9dedd2735a011418ad9e827eb538"
  },
  "kernelspec": {
   "display_name": "Python 3.9.10 64-bit",
   "language": "python",
   "name": "python3"
  },
  "language_info": {
   "codemirror_mode": {
    "name": "ipython",
    "version": 3
   },
   "file_extension": ".py",
   "mimetype": "text/x-python",
   "name": "python",
   "nbconvert_exporter": "python",
   "pygments_lexer": "ipython3",
   "version": "3.9.10"
  },
  "orig_nbformat": 4
 },
 "nbformat": 4,
 "nbformat_minor": 2
}
