{
 "cells": [
  {
   "cell_type": "markdown",
   "metadata": {},
   "source": [
    "# Numpy\n",
    "\n",
    "Importing Numpy with alias name and creating a first matrix of zeros using `np.zeros()` method of order (10 X 10)"
   ]
  },
  {
   "cell_type": "code",
   "execution_count": 2,
   "metadata": {},
   "outputs": [],
   "source": [
    "import numpy as np #alias\n",
    "\n",
    "matrix=np.zeros((10,10)) #Order 10 X 10"
   ]
  },
  {
   "cell_type": "code",
   "execution_count": 14,
   "metadata": {},
   "outputs": [
    {
     "name": "stdout",
     "output_type": "stream",
     "text": [
      "[[0. 0. 0. 0. 0. 0. 0. 0. 0. 0.]\n",
      " [0. 0. 0. 0. 0. 0. 0. 0. 0. 0.]\n",
      " [0. 0. 0. 0. 0. 0. 0. 0. 0. 0.]\n",
      " [0. 0. 0. 0. 0. 0. 0. 0. 0. 0.]\n",
      " [0. 0. 0. 0. 0. 0. 0. 0. 0. 0.]\n",
      " [0. 0. 0. 0. 0. 0. 0. 0. 0. 0.]\n",
      " [0. 0. 0. 0. 0. 0. 0. 0. 0. 0.]\n",
      " [0. 0. 0. 0. 0. 0. 0. 0. 0. 0.]\n",
      " [0. 0. 0. 0. 0. 0. 0. 0. 0. 0.]\n",
      " [0. 0. 0. 0. 0. 0. 0. 0. 0. 0.]]\n"
     ]
    }
   ],
   "source": [
    "print(matrix)"
   ]
  },
  {
   "cell_type": "code",
   "execution_count": 15,
   "metadata": {},
   "outputs": [
    {
     "name": "stdout",
     "output_type": "stream",
     "text": [
      "[[ 1 23  4  5]\n",
      " [ 4  5  6  8]]\n"
     ]
    }
   ],
   "source": [
    "b = np.array([[1,23,4,5],[4,5,6,8]])\n",
    "print(b)"
   ]
  },
  {
   "cell_type": "code",
   "execution_count": 17,
   "metadata": {},
   "outputs": [
    {
     "name": "stdout",
     "output_type": "stream",
     "text": [
      "2\n",
      "2\n",
      "(10, 10)\n"
     ]
    }
   ],
   "source": [
    "print(b.ndim)\n",
    "print(matrix.shape) #This is for printing shape"
   ]
  },
  {
   "cell_type": "code",
   "execution_count": 20,
   "metadata": {},
   "outputs": [],
   "source": [
    "b = np.array([[1,23,4,5],[4,5,6,8]] , dtype = 'int8')\n"
   ]
  },
  {
   "cell_type": "code",
   "execution_count": 21,
   "metadata": {},
   "outputs": [
    {
     "data": {
      "text/plain": [
       "dtype('float64')"
      ]
     },
     "execution_count": 21,
     "metadata": {},
     "output_type": "execute_result"
    }
   ],
   "source": [
    "# Get type\n",
    "matrix.dtype"
   ]
  },
  {
   "cell_type": "code",
   "execution_count": 22,
   "metadata": {},
   "outputs": [
    {
     "data": {
      "text/plain": [
       "dtype('int8')"
      ]
     },
     "execution_count": 22,
     "metadata": {},
     "output_type": "execute_result"
    }
   ],
   "source": [
    "b.dtype"
   ]
  },
  {
   "cell_type": "code",
   "execution_count": 23,
   "metadata": {},
   "outputs": [
    {
     "data": {
      "text/plain": [
       "1"
      ]
     },
     "execution_count": 23,
     "metadata": {},
     "output_type": "execute_result"
    }
   ],
   "source": [
    "b.itemsize"
   ]
  },
  {
   "cell_type": "code",
   "execution_count": 24,
   "metadata": {},
   "outputs": [
    {
     "data": {
      "text/plain": [
       "8"
      ]
     },
     "execution_count": 24,
     "metadata": {},
     "output_type": "execute_result"
    }
   ],
   "source": [
    "matrix.itemsize"
   ]
  },
  {
   "cell_type": "code",
   "execution_count": 25,
   "metadata": {},
   "outputs": [
    {
     "data": {
      "text/plain": [
       "1"
      ]
     },
     "execution_count": 25,
     "metadata": {},
     "output_type": "execute_result"
    }
   ],
   "source": [
    "b.itemsize"
   ]
  },
  {
   "cell_type": "markdown",
   "metadata": {},
   "source": [
    "Conventional way multipliying to different list \n",
    "```python\n",
    "#NOTE: Th multiplication of two list is not possible need to use different way of multiply them\n",
    "[a*b for a,b in zip(lista,listb)]\n",
    "```"
   ]
  },
  {
   "cell_type": "code",
   "execution_count": 2,
   "metadata": {},
   "outputs": [
    {
     "name": "stdout",
     "output_type": "stream",
     "text": [
      "[3, 9, 16]\n"
     ]
    },
    {
     "ename": "TypeError",
     "evalue": "can't multiply sequence by non-int of type 'list'",
     "output_type": "error",
     "traceback": [
      "\u001b[0;31m---------------------------------------------------------------------------\u001b[0m",
      "\u001b[0;31mTypeError\u001b[0m                                 Traceback (most recent call last)",
      "\u001b[1;32m/mnt/c/Users/ashis/OneDrive/Documents/GitHub/Repositories/Python-Projects/BootCamp-Projects/Intro_numpy.ipynb Cell 13'\u001b[0m in \u001b[0;36m<module>\u001b[0;34m\u001b[0m\n\u001b[1;32m      <a href='vscode-notebook-cell://wsl%2Bubuntu-20.04/mnt/c/Users/ashis/OneDrive/Documents/GitHub/Repositories/Python-Projects/BootCamp-Projects/Intro_numpy.ipynb#ch0000010vscode-remote?line=4'>5</a>\u001b[0m mul\u001b[39m=\u001b[39m[a\u001b[39m*\u001b[39mb \u001b[39mfor\u001b[39;00m a,b \u001b[39min\u001b[39;00m \u001b[39mzip\u001b[39m(list1,list2)]\n\u001b[1;32m      <a href='vscode-notebook-cell://wsl%2Bubuntu-20.04/mnt/c/Users/ashis/OneDrive/Documents/GitHub/Repositories/Python-Projects/BootCamp-Projects/Intro_numpy.ipynb#ch0000010vscode-remote?line=5'>6</a>\u001b[0m \u001b[39mprint\u001b[39m(mul)\n\u001b[0;32m----> <a href='vscode-notebook-cell://wsl%2Bubuntu-20.04/mnt/c/Users/ashis/OneDrive/Documents/GitHub/Repositories/Python-Projects/BootCamp-Projects/Intro_numpy.ipynb#ch0000010vscode-remote?line=6'>7</a>\u001b[0m \u001b[39mprint\u001b[39m(list1\u001b[39m*\u001b[39;49mlist2)\n",
      "\u001b[0;31mTypeError\u001b[0m: can't multiply sequence by non-int of type 'list'"
     ]
    }
   ],
   "source": [
    "list1 = [1 ,3, 4]\n",
    "\n",
    "list2 = [3 ,3, 4]\n",
    "\n",
    "mul=[a*b for a,b in zip(list1,list2)]\n",
    "print(mul)\n",
    "print(list1*list2)"
   ]
  },
  {
   "cell_type": "markdown",
   "metadata": {},
   "source": [
    "### Matrix Multiplication\n",
    "There is two ways of multiplying them:\n",
    "- Element wise\n",
    "- Matrix multiplication"
   ]
  },
  {
   "cell_type": "code",
   "execution_count": 29,
   "metadata": {},
   "outputs": [
    {
     "name": "stdout",
     "output_type": "stream",
     "text": [
      "[[ 3  9 16]\n",
      " [25 36 72]\n",
      " [ 9 45 35]]\n",
      "[[ 30  57  51]\n",
      " [ 69 123 114]\n",
      " [ 55 102  92]]\n"
     ]
    }
   ],
   "source": [
    "value1 = np.array([[1 ,3, 4],\n",
    "                            [5, 6, 8 ],\n",
    "                            [3, 5, 7]])\n",
    "\n",
    "value2 = np.array([[3 ,3, 4],\n",
    "                            [5, 6, 9 ],\n",
    "                            [3, 9, 5 ]])\n",
    "\n",
    "print(value1*value2)\n",
    "\n",
    "\n",
    "print(value1@value2)"
   ]
  },
  {
   "cell_type": "code",
   "execution_count": 31,
   "metadata": {},
   "outputs": [
    {
     "name": "stdout",
     "output_type": "stream",
     "text": [
      "[1 3 4 6 7]\n"
     ]
    }
   ],
   "source": [
    "a = np.array([[1, 2, 3],\n",
    "                    [4, 5, 6],\n",
    "                    [7, 8, 9]])\n",
    "\n",
    "indices = np.array([[True, False, True],\n",
    "                            [True, False, True],\n",
    "                            [True, False, False]])\n",
    "\n",
    "print(a[indices])"
   ]
  },
  {
   "cell_type": "markdown",
   "metadata": {},
   "source": [
    "#### Accessing/Changing Specific elements, rows, colums, etc"
   ]
  },
  {
   "cell_type": "code",
   "execution_count": 9,
   "metadata": {},
   "outputs": [
    {
     "name": "stdout",
     "output_type": "stream",
     "text": [
      "[[[ 1  2  3  4  5  6  7]\n",
      "  [ 8  9 10 11 12 13 14]]\n",
      "\n",
      " [[ 1  2  3  4  5  6  7]\n",
      "  [ 8  9 10 11 12 13 14]]]\n"
     ]
    }
   ],
   "source": [
    "a = np.array([[\n",
    "                    [1, 2, 3, 4, 5, 6, 7],\n",
    "                    [8, 9 ,10, 11, 12, 13 ,14]  ],\n",
    "                    [[1, 2, 3, 4, 5, 6, 7],\n",
    "                    [8, 9 ,10, 11, 12, 13 ,14]\n",
    "        ]\n",
    "    ] )\n",
    "print(a)\n"
   ]
  },
  {
   "cell_type": "code",
   "execution_count": 4,
   "metadata": {},
   "outputs": [
    {
     "data": {
      "text/plain": [
       "13"
      ]
     },
     "execution_count": 4,
     "metadata": {},
     "output_type": "execute_result"
    }
   ],
   "source": [
    "# Get a specific relement  [r, c]\n",
    "a[1, 5]"
   ]
  },
  {
   "cell_type": "code",
   "execution_count": 11,
   "metadata": {},
   "outputs": [
    {
     "data": {
      "text/plain": [
       "array([1, 2, 3, 4, 5, 6, 7])"
      ]
     },
     "execution_count": 11,
     "metadata": {},
     "output_type": "execute_result"
    }
   ],
   "source": [
    "# Get a specific row \n",
    "a[0,0 , : ]\n"
   ]
  },
  {
   "cell_type": "code",
   "execution_count": 15,
   "metadata": {},
   "outputs": [
    {
     "data": {
      "text/plain": [
       "array([1, 8])"
      ]
     },
     "execution_count": 15,
     "metadata": {},
     "output_type": "execute_result"
    }
   ],
   "source": [
    "# Get a specific column\n",
    "a[0 , :, 0]"
   ]
  },
  {
   "cell_type": "code",
   "execution_count": 16,
   "metadata": {},
   "outputs": [
    {
     "data": {
      "text/plain": [
       "array([1, 3, 5])"
      ]
     },
     "execution_count": 16,
     "metadata": {},
     "output_type": "execute_result"
    }
   ],
   "source": [
    "# Getting specific pattern of elements from a matrix array[start index : stop index : step]\n",
    "a[0, 0, 0 : -1 : 2]\n"
   ]
  },
  {
   "cell_type": "code",
   "execution_count": 18,
   "metadata": {},
   "outputs": [],
   "source": [
    "b = np.array([[[1, 2],\n",
    "                [3, 4]],\n",
    "                    [[5, 6],\n",
    "                [7, 8]]])"
   ]
  },
  {
   "cell_type": "code",
   "execution_count": 22,
   "metadata": {},
   "outputs": [
    {
     "name": "stdout",
     "output_type": "stream",
     "text": [
      "[[[1 2]\n",
      "  [9 9]]\n",
      "\n",
      " [[5 6]\n",
      "  [8 8]]]\n"
     ]
    }
   ],
   "source": [
    "b [:, 1, :] = [[9,9],[8,8]]\n",
    "\n",
    "print(b)"
   ]
  },
  {
   "cell_type": "markdown",
   "metadata": {},
   "source": [
    "### Miscellaneous\n",
    "Load Data from File"
   ]
  },
  {
   "cell_type": "code",
   "execution_count": 30,
   "metadata": {},
   "outputs": [],
   "source": [
    "matrix_a = np.ones((2,2,3,4)).astype(\"int8\")"
   ]
  },
  {
   "cell_type": "code",
   "execution_count": 44,
   "metadata": {},
   "outputs": [
    {
     "name": "stdout",
     "output_type": "stream",
     "text": [
      "140554272703664 140554272124144\n"
     ]
    }
   ],
   "source": [
    "matrix_b = matrix_a.copy()\n",
    "print(id(matrix_a),id(matrix_b))"
   ]
  },
  {
   "cell_type": "markdown",
   "metadata": {},
   "source": [
    "Boolean Masking and Advanced Indexing"
   ]
  },
  {
   "cell_type": "code",
   "execution_count": 32,
   "metadata": {},
   "outputs": [
    {
     "data": {
      "text/plain": [
       "array([[50, 50, 50, 50, 50],\n",
       "       [50, 50, 50, 50, 50]])"
      ]
     },
     "execution_count": 32,
     "metadata": {},
     "output_type": "execute_result"
    }
   ],
   "source": [
    "np.full((2,5),50)"
   ]
  },
  {
   "cell_type": "code",
   "execution_count": 40,
   "metadata": {},
   "outputs": [
    {
     "data": {
      "text/plain": [
       "array([[39, 77, 15, 98, 75, 67, 15, 59, 19, 77],\n",
       "       [64, 69, 87, 22, 15, 89, 28, 16, 45, 78],\n",
       "       [74, 41, 45, 34, 98,  2, 62, 70, 90, 51],\n",
       "       [71, 91, 32, 29, 80,  1, 19, 58, 77, 31],\n",
       "       [45, 89, 11, 27, 91, 66, 39, 96, 44, 92],\n",
       "       [98, 92, 48, 90, 37, 52, 90,  7, 45, 79],\n",
       "       [41, 82, 39, 20, 67, 44, 37, 29, 49, 68],\n",
       "       [87, 89, 32, 93, 66, 66, 16, 48, 31, 18],\n",
       "       [26, 46, 89, 66, 46, 61, 22, 86, 47, 87],\n",
       "       [36, 45, 50, 61, 19, 73, 60, 66, 21, 46]])"
      ]
     },
     "execution_count": 40,
     "metadata": {},
     "output_type": "execute_result"
    }
   ],
   "source": [
    "np.random.randint(1, 100,size = (10,10))"
   ]
  },
  {
   "cell_type": "markdown",
   "metadata": {},
   "source": [
    "### Plot mathematical function"
   ]
  },
  {
   "cell_type": "code",
   "execution_count": 19,
   "metadata": {},
   "outputs": [
    {
     "data": {
      "text/plain": [
       "[<matplotlib.lines.Line2D at 0x7ffb5f6f2d60>]"
      ]
     },
     "execution_count": 19,
     "metadata": {},
     "output_type": "execute_result"
    },
    {
     "data": {
      "image/png": "[encoded data removed]",
      "text/plain": [
       "<Figure size 432x288 with 1 Axes>"
      ]
     },
     "metadata": {
      "needs_background": "light"
     },
     "output_type": "display_data"
    }
   ],
   "source": [
    "import matplotlib.pyplot as plt\n",
    "import numpy as np\n",
    "\n",
    "sinosudal_function = np.linspace(0,10,1000)\n",
    "\n",
    "sin_function = np.sin(sinosudal_function)\n",
    "\n",
    "plt.plot(sin_function)"
   ]
  },
  {
   "cell_type": "code",
   "execution_count": 21,
   "metadata": {},
   "outputs": [
    {
     "data": {
      "text/plain": [
       "Text(0.5, 1.0, 'Tanh Function')"
      ]
     },
     "execution_count": 21,
     "metadata": {},
     "output_type": "execute_result"
    },
    {
     "data": {
      "image/png": "[encoded data removed]",
      "text/plain": [
       "<Figure size 720x720 with 6 Axes>"
      ]
     },
     "metadata": {
      "needs_background": "light"
     },
     "output_type": "display_data"
    }
   ],
   "source": [
    "cos_function = np.cos(sinosudal_function)\n",
    "tan_function = np.tan(sinosudal_function)\n",
    "sinh_function = np.sinh(sinosudal_function)\n",
    "cosh_function = np.cosh(sinosudal_function)\n",
    "tanh_function = np.tanh(sinosudal_function)\n",
    "\n",
    "fig, ax = plt.subplots(3,2)\n",
    "\n",
    "fig.set_figheight(10)\n",
    "fig.set_figwidth(10)\n",
    "\n",
    "\n",
    "ax[0,0].plot(cos_function)\n",
    "ax[0,0].set_title('Cos Function')\n",
    "\n",
    "ax[0,1].plot(tan_function)\n",
    "ax[0,1].set_title('Tan Function')\n",
    "\n",
    "ax[1,0].plot(sinh_function)\n",
    "ax[1,0].set_title('Sinh Function')\n",
    "\n",
    "ax[1,1].plot(cosh_function)\n",
    "ax[1,1].set_title('Cosh Function')\n",
    "\n",
    "ax[2,0].plot(tanh_function)\n",
    "ax[2,0].set_title('Tanh Function')\n"
   ]
  },
  {
   "cell_type": "markdown",
   "metadata": {},
   "source": [
    "### Misc \n",
    "Import data from file to notebook and then store them and print data."
   ]
  },
  {
   "cell_type": "code",
   "execution_count": 50,
   "metadata": {},
   "outputs": [
    {
     "name": "stdout",
     "output_type": "stream",
     "text": [
      "[[  1  13  21  11 196  75   4   3  34   6   7   8   0   1   2   3   4   5]\n",
      " [  3  42  12  33 766  75   4  55   6   4   3   4   5   6   7   0  11  12]\n",
      " [  1  22  33  11 999  11   2   1  78   0   1   2   9   8   7   1  76  88]]\n"
     ]
    }
   ],
   "source": [
    "filedata = np.genfromtxt('data.txt', delimiter=',')\n",
    "filedata = filedata.astype('int32')\n",
    "print(filedata)"
   ]
  },
  {
   "cell_type": "markdown",
   "metadata": {},
   "source": [
    "Condition applied to numpy array will print the filtered data"
   ]
  },
  {
   "cell_type": "code",
   "execution_count": 52,
   "metadata": {},
   "outputs": [
    {
     "data": {
      "text/plain": [
       "array([196,  75, 766,  75,  55, 999,  78,  76,  88], dtype=int32)"
      ]
     },
     "execution_count": 52,
     "metadata": {},
     "output_type": "execute_result"
    }
   ],
   "source": [
    "filedata[filedata>50]"
   ]
  },
  {
   "cell_type": "markdown",
   "metadata": {},
   "source": [
    "Selected position access of numpy using index selector"
   ]
  },
  {
   "cell_type": "code",
   "execution_count": null,
   "metadata": {},
   "outputs": [],
   "source": [
    "a = np.array([1, 2, 3, 4, 5, 6, 7, 8, 9])\n",
    "a([1, 2, 7]) #Index that is mentioned for accessing the value"
   ]
  },
  {
   "cell_type": "markdown",
   "metadata": {},
   "source": [
    "<span style=\"color:red\"> **Out of scope from all the current topics disscused till now**</span>"
   ]
  },
  {
   "cell_type": "code",
   "execution_count": 22,
   "metadata": {},
   "outputs": [
    {
     "data": {
      "text/plain": [
       "['builtins',\n",
       " 'builtins',\n",
       " 'sys',\n",
       " 'site',\n",
       " 'os',\n",
       " 'matplotlib.pyplot',\n",
       " 'numpy',\n",
       " 'ipykernel',\n",
       " 'debugpy',\n",
       " 'types']"
      ]
     },
     "execution_count": 22,
     "metadata": {},
     "output_type": "execute_result"
    }
   ],
   "source": [
    "import types\n",
    "def imports():\n",
    "    for name, val in globals().items():\n",
    "        if isinstance(val, types.ModuleType):\n",
    "            yield val.__name__\n",
    "list(imports())"
   ]
  }
 ],
 "metadata": {
  "interpreter": {
   "hash": "7d6993cb2f9ce9a59d5d7380609d9cb5192a9dedd2735a011418ad9e827eb538"
  },
  "kernelspec": {
   "display_name": "Python 3.9.10 64-bit",
   "language": "python",
   "name": "python3"
  },
  "language_info": {
   "codemirror_mode": {
    "name": "ipython",
    "version": 3
   },
   "file_extension": ".py",
   "mimetype": "text/x-python",
   "name": "python",
   "nbconvert_exporter": "python",
   "pygments_lexer": "ipython3",
   "version": "3.9.10"
  },
  "orig_nbformat": 4
 },
 "nbformat": 4,
 "nbformat_minor": 2
}
