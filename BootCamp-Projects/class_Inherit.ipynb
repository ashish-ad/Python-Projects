{
 "cells": [
  {
   "cell_type": "code",
   "execution_count": 1,
   "metadata": {},
   "outputs": [],
   "source": [
    "# Now as in above class we have passed the value \n",
    "class Item:\n",
    "    # Class Attribute\n",
    "    pay_rate = 0.8 # the pay rate after 20% discount.\n",
    "    all = []\n",
    "\n",
    "    def __init__(self, name: str, price: float, quantity=0):\n",
    "       \n",
    "        # Run validation to received arguments\n",
    "        assert price >=0, f\"Price {price} is not greater than or equal to zero! \"\n",
    "        assert quantity >= 0, f\"Qauntity {quantity} is not greater or equal to zero\"\n",
    "        assert type(name) == str, f\"Passed value as {name} should be string not {type(name)}\"\n",
    "\n",
    "        # Assign to self object\n",
    "        self.name = name\n",
    "        self.price =  price\n",
    "        self.quantity = quantity\n",
    "\n",
    "        # Actions to execute\n",
    "        Item.all.append(self)\n",
    "\n",
    "    def calculate_total_price(self):\n",
    "        return self.price * self.quantity\n",
    "\n",
    "    def apply_discount(self):\n",
    "        self.price = self.price * self.pay_rate\n",
    "\n",
    "    def __repr__(self):\n",
    "        # {self.__class__.__name__}\n",
    "        return f\"(Item'{self.name}', {self.price},{self.quantity})\"\n"
   ]
  },
  {
   "cell_type": "code",
   "execution_count": 1,
   "metadata": {},
   "outputs": [
    {
     "ename": "NameError",
     "evalue": "name 'Item' is not defined",
     "output_type": "error",
     "traceback": [
      "\u001b[0;31m---------------------------------------------------------------------------\u001b[0m",
      "\u001b[0;31mNameError\u001b[0m                                 Traceback (most recent call last)",
      "\u001b[1;32m/mnt/c/Users/ashis/OneDrive/Documents/GitHub/Repositories/Python-Projects/BootCamp-Projects/class_Inherit.ipynb Cell 2'\u001b[0m in \u001b[0;36m<module>\u001b[0;34m\u001b[0m\n\u001b[0;32m----> <a href='vscode-notebook-cell://wsl%2Bubuntu-20.04/mnt/c/Users/ashis/OneDrive/Documents/GitHub/Repositories/Python-Projects/BootCamp-Projects/class_Inherit.ipynb#ch0000001vscode-remote?line=0'>1</a>\u001b[0m item1 \u001b[39m=\u001b[39m  Item(\u001b[39m\"\u001b[39m\u001b[39mPhone\u001b[39m\u001b[39m\"\u001b[39m, \u001b[39m100\u001b[39m,\u001b[39m1\u001b[39m)\n\u001b[1;32m      <a href='vscode-notebook-cell://wsl%2Bubuntu-20.04/mnt/c/Users/ashis/OneDrive/Documents/GitHub/Repositories/Python-Projects/BootCamp-Projects/class_Inherit.ipynb#ch0000001vscode-remote?line=1'>2</a>\u001b[0m item2 \u001b[39m=\u001b[39m Item(\u001b[39m\"\u001b[39m\u001b[39mLaptop\u001b[39m\u001b[39m\"\u001b[39m,\u001b[39m1000\u001b[39m,\u001b[39m3\u001b[39m)\n\u001b[1;32m      <a href='vscode-notebook-cell://wsl%2Bubuntu-20.04/mnt/c/Users/ashis/OneDrive/Documents/GitHub/Repositories/Python-Projects/BootCamp-Projects/class_Inherit.ipynb#ch0000001vscode-remote?line=2'>3</a>\u001b[0m itme3 \u001b[39m=\u001b[39m Item(\u001b[39m\"\u001b[39m\u001b[39mCable\u001b[39m\u001b[39m\"\u001b[39m, \u001b[39m10\u001b[39m, \u001b[39m5\u001b[39m)\n",
      "\u001b[0;31mNameError\u001b[0m: name 'Item' is not defined"
     ]
    }
   ],
   "source": [
    "item1 =  Item(\"Phone\", 100,1)\n",
    "item2 = Item(\"Laptop\",1000,3)\n",
    "itme3 = Item(\"Cable\", 10, 5)\n",
    "item4 = Item(\"Mouse\", 50, 5)\n",
    "item5 = Item(\"Keyboard\", 75, 5)"
   ]
  },
  {
   "cell_type": "code",
   "execution_count": 7,
   "metadata": {},
   "outputs": [],
   "source": [
    "class phone(Item):\n",
    "     \n",
    "     def __init__(self, name: str, price: float, quantity=0,broken_phone=0 ):\n",
    "          # Run validation to received arguments\n",
    "          assert broken_phone >=0 , f\"Broken Phones {broken_phone} is not greater or equal to zero\"\n",
    "          super().__init__(\n",
    "               name, price, quantity\n",
    "          )\n",
    "          # Assign to self object\n",
    "          self.broken_phone = broken_phone\n",
    "          \n",
    "          # Actions to execute\n",
    "          Item.all.append(self)\n"
   ]
  },
  {
   "cell_type": "code",
   "execution_count": 9,
   "metadata": {},
   "outputs": [
    {
     "name": "stdout",
     "output_type": "stream",
     "text": [
      "100000\n"
     ]
    }
   ],
   "source": [
    "\n",
    "Item_phone = phone(\"Redmi Note 10\", 20_000, 5, 4)\n",
    "Item_phone1 = phone(\"Samsung S22\", 1_00_000, 10)\n",
    "\n",
    "print(Item_phone.calculate_total_price())"
   ]
  },
  {
   "cell_type": "code",
   "execution_count": 10,
   "metadata": {},
   "outputs": [
    {
     "name": "stdout",
     "output_type": "stream",
     "text": [
      "3\n",
      "7\n"
     ]
    }
   ],
   "source": [
    "class A:\n",
    "    def __init__(self,num):\n",
    "        num=3\n",
    "        self.num=num\n",
    "    def change(self):\n",
    "        self.num=7\n",
    "\n",
    "a = A(5)\n",
    "print(a.num)\n",
    "a.change()\n",
    "print(a.num)"
   ]
  },
  {
   "cell_type": "code",
   "execution_count": null,
   "metadata": {},
   "outputs": [],
   "source": [
    "class A:\n",
    "    def __init__(self):\n",
    "        self.count=5\n",
    "        self.count = count+1\n",
    "a = "
   ]
  }
 ],
 "metadata": {
  "interpreter": {
   "hash": "7d6993cb2f9ce9a59d5d7380609d9cb5192a9dedd2735a011418ad9e827eb538"
  },
  "kernelspec": {
   "display_name": "Python 3.9.10 64-bit",
   "language": "python",
   "name": "python3"
  },
  "language_info": {
   "codemirror_mode": {
    "name": "ipython",
    "version": 3
   },
   "file_extension": ".py",
   "mimetype": "text/x-python",
   "name": "python",
   "nbconvert_exporter": "python",
   "pygments_lexer": "ipython3",
   "version": "3.9.10"
  },
  "orig_nbformat": 4
 },
 "nbformat": 4,
 "nbformat_minor": 2
}
